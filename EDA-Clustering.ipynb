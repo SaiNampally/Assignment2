{
 "cells": [
  {
   "cell_type": "code",
   "execution_count": 273,
   "metadata": {
    "collapsed": false
   },
   "outputs": [
    {
     "name": "stderr",
     "output_type": "stream",
     "text": [
      "C:\\Users\\kulka\\Anaconda3\\lib\\site-packages\\IPython\\core\\interactiveshell.py:2717: DtypeWarning: Columns (38) have mixed types. Specify dtype option on import or set low_memory=False.\n",
      "  interactivity=interactivity, compiler=compiler, result=result)\n"
     ]
    }
   ],
   "source": [
    "import pandas as pd\n",
    "import numpy as np\n",
    "import os\n",
    "os.getcwd()\n",
    "data = pd.read_csv(\"Data-prod.csv\",sep=',')"
   ]
  },
  {
   "cell_type": "code",
   "execution_count": 281,
   "metadata": {
    "collapsed": false
   },
   "outputs": [
    {
     "data": {
      "text/html": [
       "<div>\n",
       "<table border=\"1\" class=\"dataframe\">\n",
       "  <thead>\n",
       "    <tr style=\"text-align: right;\">\n",
       "      <th></th>\n",
       "      <th>SalesOrderID</th>\n",
       "      <th>RevisionNumber</th>\n",
       "      <th>delayed</th>\n",
       "      <th>OnlineOrderFlag</th>\n",
       "      <th>CustomerID</th>\n",
       "      <th>SalesPersonID</th>\n",
       "      <th>CreditCardID</th>\n",
       "      <th>SubTotal</th>\n",
       "      <th>TaxAmt</th>\n",
       "      <th>Freight</th>\n",
       "      <th>...</th>\n",
       "      <th>weights</th>\n",
       "      <th>DaysToManufacture</th>\n",
       "      <th>ProductLine</th>\n",
       "      <th>Class</th>\n",
       "      <th>Style</th>\n",
       "      <th>ProductSubcategoryID</th>\n",
       "      <th>ProductModelID</th>\n",
       "      <th>Title</th>\n",
       "      <th>Suffix</th>\n",
       "      <th>EmailPromotion</th>\n",
       "    </tr>\n",
       "  </thead>\n",
       "  <tbody>\n",
       "    <tr>\n",
       "      <th>0</th>\n",
       "      <td>43659</td>\n",
       "      <td>8</td>\n",
       "      <td>1</td>\n",
       "      <td>0</td>\n",
       "      <td>29825</td>\n",
       "      <td>279.0</td>\n",
       "      <td>16281.0</td>\n",
       "      <td>20565.6206</td>\n",
       "      <td>1971.5149</td>\n",
       "      <td>616.0984</td>\n",
       "      <td>...</td>\n",
       "      <td>20.77</td>\n",
       "      <td>4</td>\n",
       "      <td>M</td>\n",
       "      <td>H</td>\n",
       "      <td>U</td>\n",
       "      <td>1</td>\n",
       "      <td>19</td>\n",
       "      <td>NaN</td>\n",
       "      <td>NaN</td>\n",
       "      <td>0.0</td>\n",
       "    </tr>\n",
       "    <tr>\n",
       "      <th>1</th>\n",
       "      <td>43659</td>\n",
       "      <td>8</td>\n",
       "      <td>1</td>\n",
       "      <td>0</td>\n",
       "      <td>29825</td>\n",
       "      <td>279.0</td>\n",
       "      <td>16281.0</td>\n",
       "      <td>20565.6206</td>\n",
       "      <td>1971.5149</td>\n",
       "      <td>616.0984</td>\n",
       "      <td>...</td>\n",
       "      <td>21.13</td>\n",
       "      <td>4</td>\n",
       "      <td>M</td>\n",
       "      <td>H</td>\n",
       "      <td>U</td>\n",
       "      <td>1</td>\n",
       "      <td>19</td>\n",
       "      <td>NaN</td>\n",
       "      <td>NaN</td>\n",
       "      <td>0.0</td>\n",
       "    </tr>\n",
       "    <tr>\n",
       "      <th>2</th>\n",
       "      <td>43659</td>\n",
       "      <td>8</td>\n",
       "      <td>1</td>\n",
       "      <td>0</td>\n",
       "      <td>29825</td>\n",
       "      <td>279.0</td>\n",
       "      <td>16281.0</td>\n",
       "      <td>20565.6206</td>\n",
       "      <td>1971.5149</td>\n",
       "      <td>616.0984</td>\n",
       "      <td>...</td>\n",
       "      <td>21.42</td>\n",
       "      <td>4</td>\n",
       "      <td>M</td>\n",
       "      <td>H</td>\n",
       "      <td>U</td>\n",
       "      <td>1</td>\n",
       "      <td>19</td>\n",
       "      <td>NaN</td>\n",
       "      <td>NaN</td>\n",
       "      <td>0.0</td>\n",
       "    </tr>\n",
       "    <tr>\n",
       "      <th>3</th>\n",
       "      <td>43659</td>\n",
       "      <td>8</td>\n",
       "      <td>1</td>\n",
       "      <td>0</td>\n",
       "      <td>29825</td>\n",
       "      <td>279.0</td>\n",
       "      <td>16281.0</td>\n",
       "      <td>20565.6206</td>\n",
       "      <td>1971.5149</td>\n",
       "      <td>616.0984</td>\n",
       "      <td>...</td>\n",
       "      <td>20.35</td>\n",
       "      <td>4</td>\n",
       "      <td>M</td>\n",
       "      <td>H</td>\n",
       "      <td>U</td>\n",
       "      <td>1</td>\n",
       "      <td>19</td>\n",
       "      <td>NaN</td>\n",
       "      <td>NaN</td>\n",
       "      <td>0.0</td>\n",
       "    </tr>\n",
       "    <tr>\n",
       "      <th>4</th>\n",
       "      <td>43659</td>\n",
       "      <td>8</td>\n",
       "      <td>1</td>\n",
       "      <td>0</td>\n",
       "      <td>29825</td>\n",
       "      <td>279.0</td>\n",
       "      <td>16281.0</td>\n",
       "      <td>20565.6206</td>\n",
       "      <td>1971.5149</td>\n",
       "      <td>616.0984</td>\n",
       "      <td>...</td>\n",
       "      <td>20.77</td>\n",
       "      <td>4</td>\n",
       "      <td>M</td>\n",
       "      <td>H</td>\n",
       "      <td>U</td>\n",
       "      <td>1</td>\n",
       "      <td>19</td>\n",
       "      <td>NaN</td>\n",
       "      <td>NaN</td>\n",
       "      <td>0.0</td>\n",
       "    </tr>\n",
       "  </tbody>\n",
       "</table>\n",
       "<p>5 rows × 40 columns</p>\n",
       "</div>"
      ],
      "text/plain": [
       "   SalesOrderID  RevisionNumber  delayed  OnlineOrderFlag  CustomerID  \\\n",
       "0         43659               8        1                0       29825   \n",
       "1         43659               8        1                0       29825   \n",
       "2         43659               8        1                0       29825   \n",
       "3         43659               8        1                0       29825   \n",
       "4         43659               8        1                0       29825   \n",
       "\n",
       "   SalesPersonID  CreditCardID    SubTotal     TaxAmt   Freight  \\\n",
       "0          279.0       16281.0  20565.6206  1971.5149  616.0984   \n",
       "1          279.0       16281.0  20565.6206  1971.5149  616.0984   \n",
       "2          279.0       16281.0  20565.6206  1971.5149  616.0984   \n",
       "3          279.0       16281.0  20565.6206  1971.5149  616.0984   \n",
       "4          279.0       16281.0  20565.6206  1971.5149  616.0984   \n",
       "\n",
       "       ...        weights  DaysToManufacture  ProductLine  Class  Style  \\\n",
       "0      ...          20.77                  4           M      H      U    \n",
       "1      ...          21.13                  4           M      H      U    \n",
       "2      ...          21.42                  4           M      H      U    \n",
       "3      ...          20.35                  4           M      H      U    \n",
       "4      ...          20.77                  4           M      H      U    \n",
       "\n",
       "   ProductSubcategoryID  ProductModelID  Title Suffix EmailPromotion  \n",
       "0                     1              19    NaN    NaN            0.0  \n",
       "1                     1              19    NaN    NaN            0.0  \n",
       "2                     1              19    NaN    NaN            0.0  \n",
       "3                     1              19    NaN    NaN            0.0  \n",
       "4                     1              19    NaN    NaN            0.0  \n",
       "\n",
       "[5 rows x 40 columns]"
      ]
     },
     "execution_count": 281,
     "metadata": {},
     "output_type": "execute_result"
    }
   ],
   "source": [
    "data.head()"
   ]
  },
  {
   "cell_type": "code",
   "execution_count": 296,
   "metadata": {
    "collapsed": false
   },
   "outputs": [
    {
     "data": {
      "text/plain": [
       "35769     Patch Kit/8 Patches\n",
       "35874     Patch Kit/8 Patches\n",
       "36061     Patch Kit/8 Patches\n",
       "36209     Patch Kit/8 Patches\n",
       "36284     Patch Kit/8 Patches\n",
       "36329     Patch Kit/8 Patches\n",
       "36483     Patch Kit/8 Patches\n",
       "36517     Patch Kit/8 Patches\n",
       "36610     Patch Kit/8 Patches\n",
       "36865     Patch Kit/8 Patches\n",
       "36998     Patch Kit/8 Patches\n",
       "37081     Patch Kit/8 Patches\n",
       "37197     Patch Kit/8 Patches\n",
       "37232     Patch Kit/8 Patches\n",
       "37320     Patch Kit/8 Patches\n",
       "37412     Patch Kit/8 Patches\n",
       "37521     Patch Kit/8 Patches\n",
       "37538     Patch Kit/8 Patches\n",
       "37595     Patch Kit/8 Patches\n",
       "37666     Patch Kit/8 Patches\n",
       "37690     Patch Kit/8 Patches\n",
       "37869     Patch Kit/8 Patches\n",
       "37908     Patch Kit/8 Patches\n",
       "37927     Patch Kit/8 Patches\n",
       "37937     Patch Kit/8 Patches\n",
       "37959     Patch Kit/8 Patches\n",
       "38013     Patch Kit/8 Patches\n",
       "38047     Patch Kit/8 Patches\n",
       "38058     Patch Kit/8 Patches\n",
       "38064     Patch Kit/8 Patches\n",
       "                 ...         \n",
       "120834    Patch Kit/8 Patches\n",
       "120891    Patch Kit/8 Patches\n",
       "120898    Patch Kit/8 Patches\n",
       "120918    Patch Kit/8 Patches\n",
       "120937    Patch Kit/8 Patches\n",
       "120964    Patch Kit/8 Patches\n",
       "120973    Patch Kit/8 Patches\n",
       "120992    Patch Kit/8 Patches\n",
       "121011    Patch Kit/8 Patches\n",
       "121015    Patch Kit/8 Patches\n",
       "121026    Patch Kit/8 Patches\n",
       "121033    Patch Kit/8 Patches\n",
       "121058    Patch Kit/8 Patches\n",
       "121076    Patch Kit/8 Patches\n",
       "121084    Patch Kit/8 Patches\n",
       "121087    Patch Kit/8 Patches\n",
       "121094    Patch Kit/8 Patches\n",
       "121096    Patch Kit/8 Patches\n",
       "121108    Patch Kit/8 Patches\n",
       "121111    Patch Kit/8 Patches\n",
       "121113    Patch Kit/8 Patches\n",
       "121130    Patch Kit/8 Patches\n",
       "121133    Patch Kit/8 Patches\n",
       "121177    Patch Kit/8 Patches\n",
       "121188    Patch Kit/8 Patches\n",
       "121192    Patch Kit/8 Patches\n",
       "121254    Patch Kit/8 Patches\n",
       "121274    Patch Kit/8 Patches\n",
       "121300    Patch Kit/8 Patches\n",
       "121305    Patch Kit/8 Patches\n",
       "Name: Name, dtype: object"
      ]
     },
     "execution_count": 296,
     "metadata": {},
     "output_type": "execute_result"
    }
   ],
   "source": [
    "x = data[data.ProductID == 873]\n",
    "x.Name"
   ]
  },
  {
   "cell_type": "code",
   "execution_count": 282,
   "metadata": {
    "collapsed": false
   },
   "outputs": [
    {
     "data": {
      "text/plain": [
       "8    121203\n",
       "9       114\n",
       "Name: RevisionNumber, dtype: int64"
      ]
     },
     "execution_count": 282,
     "metadata": {},
     "output_type": "execute_result"
    }
   ],
   "source": [
    "data.RevisionNumber.value_counts()"
   ]
  },
  {
   "cell_type": "code",
   "execution_count": 283,
   "metadata": {
    "collapsed": false
   },
   "outputs": [
    {
     "data": {
      "text/plain": [
       "1    66265\n",
       "0    55052\n",
       "Name: delayed, dtype: int64"
      ]
     },
     "execution_count": 283,
     "metadata": {},
     "output_type": "execute_result"
    }
   ],
   "source": [
    "data.delayed = np.where(data.delayed == -11,1,data.delayed)\n",
    "data.delayed.value_counts()\n",
    "# Almost Half of the products sales where shipped late, ie: more than 1 month"
   ]
  },
  {
   "cell_type": "code",
   "execution_count": 284,
   "metadata": {
    "collapsed": false
   },
   "outputs": [
    {
     "data": {
      "text/plain": [
       "0    60919\n",
       "1    60398\n",
       "Name: OnlineOrderFlag, dtype: int64"
      ]
     },
     "execution_count": 284,
     "metadata": {},
     "output_type": "execute_result"
    }
   ],
   "source": [
    "data.OnlineOrderFlag.value_counts()\n",
    "# Almost half of the products sales where ordered online"
   ]
  },
  {
   "cell_type": "code",
   "execution_count": 285,
   "metadata": {
    "collapsed": false
   },
   "outputs": [
    {
     "data": {
      "text/html": [
       "<div>\n",
       "<table border=\"1\" class=\"dataframe\">\n",
       "  <thead>\n",
       "    <tr style=\"text-align: right;\">\n",
       "      <th>OnlineOrderFlag</th>\n",
       "      <th>0</th>\n",
       "      <th>1</th>\n",
       "    </tr>\n",
       "    <tr>\n",
       "      <th>delayed</th>\n",
       "      <th></th>\n",
       "      <th></th>\n",
       "    </tr>\n",
       "  </thead>\n",
       "  <tbody>\n",
       "    <tr>\n",
       "      <th>0</th>\n",
       "      <td>8522</td>\n",
       "      <td>46530</td>\n",
       "    </tr>\n",
       "    <tr>\n",
       "      <th>1</th>\n",
       "      <td>52397</td>\n",
       "      <td>13868</td>\n",
       "    </tr>\n",
       "  </tbody>\n",
       "</table>\n",
       "</div>"
      ],
      "text/plain": [
       "OnlineOrderFlag      0      1\n",
       "delayed                      \n",
       "0                 8522  46530\n",
       "1                52397  13868"
      ]
     },
     "execution_count": 285,
     "metadata": {},
     "output_type": "execute_result"
    }
   ],
   "source": [
    "pd.crosstab(data.delayed, data.OnlineOrderFlag)\n",
    "# delay is irrespective of Online order "
   ]
  },
  {
   "cell_type": "code",
   "execution_count": 286,
   "metadata": {
    "collapsed": false
   },
   "outputs": [
    {
     "name": "stdout",
     "output_type": "stream",
     "text": [
      "max of Sub total 163930.3943\n",
      "min of Sub total 1.374\n"
     ]
    },
    {
     "name": "stderr",
     "output_type": "stream",
     "text": [
      "C:\\Users\\kulka\\Anaconda3\\lib\\site-packages\\ipykernel\\__main__.py:3: FutureWarning: sort(columns=....) is deprecated, use sort_values(by=.....)\n",
      "  app.launch_new_instance()\n"
     ]
    }
   ],
   "source": [
    "# Maximum amount spent on a single sales\n",
    "print(\"max of Sub total {}\".format(data.SubTotal.max()))\n",
    "data[[\"CustomerID\",\"SubTotal\"]].sort(\"SubTotal\").tail(1) # Customer with ID = 29641 makes the maximum sales.\n",
    "# Maximum amount spent on a single sales\n",
    "print(\"min of Sub total {}\".format(data.SubTotal.min()))"
   ]
  },
  {
   "cell_type": "code",
   "execution_count": 187,
   "metadata": {
    "collapsed": false
   },
   "outputs": [
    {
     "data": {
      "text/plain": [
       "870    2463\n",
       "712    2139\n",
       "711    1891\n",
       "708    1881\n",
       "707    1862\n",
       "873    1772\n",
       "921    1613\n",
       "715    1281\n",
       "922    1236\n",
       "878    1100\n",
       "871    1018\n",
       "782     928\n",
       "714     892\n",
       "783     876\n",
       "872     874\n",
       "716     829\n",
       "784     800\n",
       "779     797\n",
       "781     788\n",
       "780     779\n",
       "877     775\n",
       "923     729\n",
       "859     727\n",
       "930     716\n",
       "770     703\n",
       "762     688\n",
       "760     678\n",
       "763     648\n",
       "765     641\n",
       "761     637\n",
       "       ... \n",
       "941      64\n",
       "723      52\n",
       "913      49\n",
       "727      48\n",
       "839      47\n",
       "828      46\n",
       "805      46\n",
       "710      44\n",
       "733      44\n",
       "719      44\n",
       "914      43\n",
       "890      40\n",
       "891      40\n",
       "915      38\n",
       "888      33\n",
       "830      33\n",
       "827      31\n",
       "946      30\n",
       "887      29\n",
       "950      28\n",
       "902      20\n",
       "919      16\n",
       "903      14\n",
       "744      13\n",
       "898       9\n",
       "927       9\n",
       "943       6\n",
       "911       6\n",
       "942       5\n",
       "897       2\n",
       "Name: ProductID, dtype: int64"
      ]
     },
     "execution_count": 187,
     "metadata": {},
     "output_type": "execute_result"
    }
   ],
   "source": [
    "data.ProductID.value_counts() # sales for product number 780, 712, 873, 921,711 are high"
   ]
  },
  {
   "cell_type": "code",
   "execution_count": 188,
   "metadata": {
    "collapsed": false
   },
   "outputs": [
    {
     "name": "stdout",
     "output_type": "stream",
     "text": [
      "Most of the products where sold in the range of $0-$250\n"
     ]
    },
    {
     "data": {
      "image/png": "[encoded data removed]",
      "text/plain": [
       "<matplotlib.figure.Figure at 0x21e315348d0>"
      ]
     },
     "metadata": {},
     "output_type": "display_data"
    }
   ],
   "source": [
    "import matplotlib.pyplot as plt\n",
    "%matplotlib inline\n",
    "plt.hist(data.StandardCost)\n",
    "print(\"Most of the products where sold in the range of $0-$250\")"
   ]
  },
  {
   "cell_type": "code",
   "execution_count": 287,
   "metadata": {
    "collapsed": false
   },
   "outputs": [
    {
     "name": "stdout",
     "output_type": "stream",
     "text": [
      "42243    873\n",
      "Name: ProductID, dtype: int64\n"
     ]
    },
    {
     "data": {
      "text/plain": [
       "42243    NaN\n",
       "Name: Class, dtype: object"
      ]
     },
     "execution_count": 287,
     "metadata": {},
     "output_type": "execute_result"
    }
   ],
   "source": [
    "a = data[data.UnitPrice == data.UnitPrice.max()]\n",
    "a.ProductID.value_counts() # The costrlies products include product id = 337, 336, 302, 295, 281\n",
    "a.ProductLine.value_counts() # all the costly products are shipped using road\n",
    "a.MakeFlag.value_counts()# Costly Products are manufactured in-house.\n",
    "a.SafetyStockLevel.value_counts() # Safety stock leavel for costly products is 100\n",
    "a.ReorderPoint.value_counts() # Reorder point for costly products is 75\n",
    "a.DaysToManufacture.value_counts() # costly products take more time to manufacture\n",
    "a.Class.value_counts() # Class of costly products is High\n",
    "a.Style.value_counts() # Universal products are costly\n",
    "a.ProductSubcategoryID.value_counts() # the products from Subcategory 1551 are costly\n",
    "b = data[data.UnitPrice == data.UnitPrice.min()]\n",
    "print(b.ProductID) # 873 is the cheapest product\n",
    "b.MakeFlag.value_counts() # cheap products are not-manufactured inhouse\n",
    "# Cheap products are made standard shipping\n",
    "b.SafetyStockLevel.value_counts() # Safety stock level for cheap products is 1\n",
    "b.ReorderPoint.value_counts() # Reorder point for cheap products is 3\n",
    "b.DaysToManufacture.value_counts() # cheap products take less time to manufacture\n",
    "b.Class # Class for cheap products is Low"
   ]
  },
  {
   "cell_type": "code",
   "execution_count": 190,
   "metadata": {
    "collapsed": false
   },
   "outputs": [
    {
     "data": {
      "text/plain": [
       "<matplotlib.collections.PathCollection at 0x21e366b2d68>"
      ]
     },
     "execution_count": 190,
     "metadata": {},
     "output_type": "execute_result"
    },
    {
     "data": {
      "image/png": "[encoded data removed]",
      "text/plain": [
       "<matplotlib.figure.Figure at 0x21e31dff828>"
      ]
     },
     "metadata": {},
     "output_type": "display_data"
    }
   ],
   "source": [
    "# plot weight and unit price\n",
    "plt.scatter(data.weights,data.UnitPrice,)"
   ]
  },
  {
   "cell_type": "code",
   "execution_count": 191,
   "metadata": {
    "collapsed": false
   },
   "outputs": [
    {
     "data": {
      "text/html": [
       "<div>\n",
       "<table border=\"1\" class=\"dataframe\">\n",
       "  <thead>\n",
       "    <tr style=\"text-align: right;\">\n",
       "      <th>EmailPromotion</th>\n",
       "      <th>0.0</th>\n",
       "      <th>1.0</th>\n",
       "      <th>2.0</th>\n",
       "    </tr>\n",
       "    <tr>\n",
       "      <th>ProductSubcategoryID</th>\n",
       "      <th></th>\n",
       "      <th></th>\n",
       "      <th></th>\n",
       "    </tr>\n",
       "  </thead>\n",
       "  <tbody>\n",
       "    <tr>\n",
       "      <th>1</th>\n",
       "      <td>5012</td>\n",
       "      <td>2502</td>\n",
       "      <td>1907</td>\n",
       "    </tr>\n",
       "    <tr>\n",
       "      <th>2</th>\n",
       "      <td>9817</td>\n",
       "      <td>4401</td>\n",
       "      <td>3230</td>\n",
       "    </tr>\n",
       "    <tr>\n",
       "      <th>3</th>\n",
       "      <td>2119</td>\n",
       "      <td>997</td>\n",
       "      <td>714</td>\n",
       "    </tr>\n",
       "    <tr>\n",
       "      <th>4</th>\n",
       "      <td>684</td>\n",
       "      <td>326</td>\n",
       "      <td>268</td>\n",
       "    </tr>\n",
       "    <tr>\n",
       "      <th>5</th>\n",
       "      <td>141</td>\n",
       "      <td>55</td>\n",
       "      <td>45</td>\n",
       "    </tr>\n",
       "    <tr>\n",
       "      <th>6</th>\n",
       "      <td>159</td>\n",
       "      <td>61</td>\n",
       "      <td>43</td>\n",
       "    </tr>\n",
       "    <tr>\n",
       "      <th>7</th>\n",
       "      <td>97</td>\n",
       "      <td>34</td>\n",
       "      <td>30</td>\n",
       "    </tr>\n",
       "    <tr>\n",
       "      <th>8</th>\n",
       "      <td>163</td>\n",
       "      <td>65</td>\n",
       "      <td>54</td>\n",
       "    </tr>\n",
       "    <tr>\n",
       "      <th>9</th>\n",
       "      <td>161</td>\n",
       "      <td>57</td>\n",
       "      <td>45</td>\n",
       "    </tr>\n",
       "    <tr>\n",
       "      <th>10</th>\n",
       "      <td>121</td>\n",
       "      <td>49</td>\n",
       "      <td>30</td>\n",
       "    </tr>\n",
       "    <tr>\n",
       "      <th>11</th>\n",
       "      <td>157</td>\n",
       "      <td>68</td>\n",
       "      <td>41</td>\n",
       "    </tr>\n",
       "    <tr>\n",
       "      <th>12</th>\n",
       "      <td>2007</td>\n",
       "      <td>933</td>\n",
       "      <td>713</td>\n",
       "    </tr>\n",
       "    <tr>\n",
       "      <th>13</th>\n",
       "      <td>569</td>\n",
       "      <td>305</td>\n",
       "      <td>183</td>\n",
       "    </tr>\n",
       "    <tr>\n",
       "      <th>14</th>\n",
       "      <td>2348</td>\n",
       "      <td>1182</td>\n",
       "      <td>845</td>\n",
       "    </tr>\n",
       "    <tr>\n",
       "      <th>15</th>\n",
       "      <td>323</td>\n",
       "      <td>157</td>\n",
       "      <td>127</td>\n",
       "    </tr>\n",
       "    <tr>\n",
       "      <th>16</th>\n",
       "      <td>458</td>\n",
       "      <td>286</td>\n",
       "      <td>227</td>\n",
       "    </tr>\n",
       "    <tr>\n",
       "      <th>17</th>\n",
       "      <td>1042</td>\n",
       "      <td>492</td>\n",
       "      <td>356</td>\n",
       "    </tr>\n",
       "    <tr>\n",
       "      <th>18</th>\n",
       "      <td>407</td>\n",
       "      <td>192</td>\n",
       "      <td>153</td>\n",
       "    </tr>\n",
       "    <tr>\n",
       "      <th>19</th>\n",
       "      <td>1199</td>\n",
       "      <td>522</td>\n",
       "      <td>382</td>\n",
       "    </tr>\n",
       "    <tr>\n",
       "      <th>20</th>\n",
       "      <td>1477</td>\n",
       "      <td>693</td>\n",
       "      <td>479</td>\n",
       "    </tr>\n",
       "    <tr>\n",
       "      <th>21</th>\n",
       "      <td>2748</td>\n",
       "      <td>1168</td>\n",
       "      <td>880</td>\n",
       "    </tr>\n",
       "    <tr>\n",
       "      <th>22</th>\n",
       "      <td>911</td>\n",
       "      <td>486</td>\n",
       "      <td>363</td>\n",
       "    </tr>\n",
       "    <tr>\n",
       "      <th>23</th>\n",
       "      <td>548</td>\n",
       "      <td>276</td>\n",
       "      <td>145</td>\n",
       "    </tr>\n",
       "    <tr>\n",
       "      <th>24</th>\n",
       "      <td>524</td>\n",
       "      <td>260</td>\n",
       "      <td>183</td>\n",
       "    </tr>\n",
       "    <tr>\n",
       "      <th>25</th>\n",
       "      <td>525</td>\n",
       "      <td>185</td>\n",
       "      <td>132</td>\n",
       "    </tr>\n",
       "    <tr>\n",
       "      <th>26</th>\n",
       "      <td>275</td>\n",
       "      <td>110</td>\n",
       "      <td>79</td>\n",
       "    </tr>\n",
       "    <tr>\n",
       "      <th>27</th>\n",
       "      <td>66</td>\n",
       "      <td>35</td>\n",
       "      <td>29</td>\n",
       "    </tr>\n",
       "    <tr>\n",
       "      <th>28</th>\n",
       "      <td>2409</td>\n",
       "      <td>1001</td>\n",
       "      <td>796</td>\n",
       "    </tr>\n",
       "    <tr>\n",
       "      <th>29</th>\n",
       "      <td>449</td>\n",
       "      <td>178</td>\n",
       "      <td>124</td>\n",
       "    </tr>\n",
       "    <tr>\n",
       "      <th>30</th>\n",
       "      <td>557</td>\n",
       "      <td>279</td>\n",
       "      <td>222</td>\n",
       "    </tr>\n",
       "    <tr>\n",
       "      <th>31</th>\n",
       "      <td>3031</td>\n",
       "      <td>1393</td>\n",
       "      <td>1062</td>\n",
       "    </tr>\n",
       "    <tr>\n",
       "      <th>32</th>\n",
       "      <td>354</td>\n",
       "      <td>132</td>\n",
       "      <td>119</td>\n",
       "    </tr>\n",
       "    <tr>\n",
       "      <th>34</th>\n",
       "      <td>143</td>\n",
       "      <td>64</td>\n",
       "      <td>50</td>\n",
       "    </tr>\n",
       "    <tr>\n",
       "      <th>36</th>\n",
       "      <td>144</td>\n",
       "      <td>66</td>\n",
       "      <td>54</td>\n",
       "    </tr>\n",
       "    <tr>\n",
       "      <th>37</th>\n",
       "      <td>4808</td>\n",
       "      <td>2204</td>\n",
       "      <td>1674</td>\n",
       "    </tr>\n",
       "  </tbody>\n",
       "</table>\n",
       "</div>"
      ],
      "text/plain": [
       "EmailPromotion         0.0   1.0   2.0\n",
       "ProductSubcategoryID                  \n",
       "1                     5012  2502  1907\n",
       "2                     9817  4401  3230\n",
       "3                     2119   997   714\n",
       "4                      684   326   268\n",
       "5                      141    55    45\n",
       "6                      159    61    43\n",
       "7                       97    34    30\n",
       "8                      163    65    54\n",
       "9                      161    57    45\n",
       "10                     121    49    30\n",
       "11                     157    68    41\n",
       "12                    2007   933   713\n",
       "13                     569   305   183\n",
       "14                    2348  1182   845\n",
       "15                     323   157   127\n",
       "16                     458   286   227\n",
       "17                    1042   492   356\n",
       "18                     407   192   153\n",
       "19                    1199   522   382\n",
       "20                    1477   693   479\n",
       "21                    2748  1168   880\n",
       "22                     911   486   363\n",
       "23                     548   276   145\n",
       "24                     524   260   183\n",
       "25                     525   185   132\n",
       "26                     275   110    79\n",
       "27                      66    35    29\n",
       "28                    2409  1001   796\n",
       "29                     449   178   124\n",
       "30                     557   279   222\n",
       "31                    3031  1393  1062\n",
       "32                     354   132   119\n",
       "34                     143    64    50\n",
       "36                     144    66    54\n",
       "37                    4808  2204  1674"
      ]
     },
     "execution_count": 191,
     "metadata": {},
     "output_type": "execute_result"
    }
   ],
   "source": [
    "pd.crosstab(data.ProductSubcategoryID, data.EmailPromotion)"
   ]
  },
  {
   "cell_type": "code",
   "execution_count": 192,
   "metadata": {
    "collapsed": false
   },
   "outputs": [
    {
     "data": {
      "text/html": [
       "<div>\n",
       "<table border=\"1\" class=\"dataframe\">\n",
       "  <thead>\n",
       "    <tr style=\"text-align: right;\">\n",
       "      <th>Title</th>\n",
       "      <th>Mr.</th>\n",
       "      <th>Ms</th>\n",
       "      <th>Ms.</th>\n",
       "      <th>Sr.</th>\n",
       "      <th>Sra.</th>\n",
       "    </tr>\n",
       "    <tr>\n",
       "      <th>EmailPromotion</th>\n",
       "      <th></th>\n",
       "      <th></th>\n",
       "      <th></th>\n",
       "      <th></th>\n",
       "      <th></th>\n",
       "    </tr>\n",
       "  </thead>\n",
       "  <tbody>\n",
       "    <tr>\n",
       "      <th>0.0</th>\n",
       "      <td>16562</td>\n",
       "      <td>2</td>\n",
       "      <td>11001</td>\n",
       "      <td>257</td>\n",
       "      <td>112</td>\n",
       "    </tr>\n",
       "    <tr>\n",
       "      <th>1.0</th>\n",
       "      <td>7439</td>\n",
       "      <td>0</td>\n",
       "      <td>5641</td>\n",
       "      <td>41</td>\n",
       "      <td>6</td>\n",
       "    </tr>\n",
       "    <tr>\n",
       "      <th>2.0</th>\n",
       "      <td>5298</td>\n",
       "      <td>0</td>\n",
       "      <td>4123</td>\n",
       "      <td>49</td>\n",
       "      <td>0</td>\n",
       "    </tr>\n",
       "  </tbody>\n",
       "</table>\n",
       "</div>"
      ],
      "text/plain": [
       "Title             Mr.  Ms    Ms.  Sr.  Sra.\n",
       "EmailPromotion                             \n",
       "0.0             16562   2  11001  257   112\n",
       "1.0              7439   0   5641   41     6\n",
       "2.0              5298   0   4123   49     0"
      ]
     },
     "execution_count": 192,
     "metadata": {},
     "output_type": "execute_result"
    }
   ],
   "source": [
    "pd.crosstab(data.EmailPromotion, data.Title)"
   ]
  },
  {
   "cell_type": "code",
   "execution_count": 193,
   "metadata": {
    "collapsed": false
   },
   "outputs": [
    {
     "data": {
      "text/html": [
       "<div>\n",
       "<table border=\"1\" class=\"dataframe\">\n",
       "  <thead>\n",
       "    <tr style=\"text-align: right;\">\n",
       "      <th>Class</th>\n",
       "      <th>H</th>\n",
       "      <th>L</th>\n",
       "      <th>M</th>\n",
       "    </tr>\n",
       "    <tr>\n",
       "      <th>Title</th>\n",
       "      <th></th>\n",
       "      <th></th>\n",
       "      <th></th>\n",
       "    </tr>\n",
       "  </thead>\n",
       "  <tbody>\n",
       "    <tr>\n",
       "      <th>Mr.</th>\n",
       "      <td>7245</td>\n",
       "      <td>8003</td>\n",
       "      <td>5079</td>\n",
       "    </tr>\n",
       "    <tr>\n",
       "      <th>Ms</th>\n",
       "      <td>1</td>\n",
       "      <td>0</td>\n",
       "      <td>0</td>\n",
       "    </tr>\n",
       "    <tr>\n",
       "      <th>Ms.</th>\n",
       "      <td>5357</td>\n",
       "      <td>5668</td>\n",
       "      <td>3590</td>\n",
       "    </tr>\n",
       "    <tr>\n",
       "      <th>Sr.</th>\n",
       "      <td>94</td>\n",
       "      <td>87</td>\n",
       "      <td>67</td>\n",
       "    </tr>\n",
       "    <tr>\n",
       "      <th>Sra.</th>\n",
       "      <td>31</td>\n",
       "      <td>30</td>\n",
       "      <td>8</td>\n",
       "    </tr>\n",
       "  </tbody>\n",
       "</table>\n",
       "</div>"
      ],
      "text/plain": [
       "Class    H     L     M \n",
       "Title                  \n",
       "Mr.    7245  8003  5079\n",
       "Ms        1     0     0\n",
       "Ms.    5357  5668  3590\n",
       "Sr.      94    87    67\n",
       "Sra.     31    30     8"
      ]
     },
     "execution_count": 193,
     "metadata": {},
     "output_type": "execute_result"
    }
   ],
   "source": [
    "pd.crosstab(data.Title, data.Class)\n",
    "# most of the shopping was done by Mr and Ms."
   ]
  },
  {
   "cell_type": "code",
   "execution_count": 194,
   "metadata": {
    "collapsed": false
   },
   "outputs": [],
   "source": [
    "data.delayed = np.where(data.delayed == -11, 1, data.delayed)"
   ]
  },
  {
   "cell_type": "code",
   "execution_count": 195,
   "metadata": {
    "collapsed": false
   },
   "outputs": [
    {
     "data": {
      "text/plain": [
       "Index(['SalesOrderID', 'RevisionNumber', 'delayed', 'OnlineOrderFlag',\n",
       "       'CustomerID', 'SalesPersonID', 'CreditCardID', 'SubTotal', 'TaxAmt',\n",
       "       'Freight', 'TotalDue', 'SalesOrderDetailID', 'OrderQty', 'ProductID',\n",
       "       'SpecialOfferID', 'UnitPrice', 'UnitPriceDiscount', 'LineTotal', 'Name',\n",
       "       'ProductNumber', 'MakeFlag', 'FinishedGoodsFlag', 'Color',\n",
       "       'SafetyStockLevel', 'ReorderPoint', 'StandardCost', 'ListPrice', 'Size',\n",
       "       'SizeUnitMeasureCode', 'WeightUnitMeasureCode', 'weights',\n",
       "       'DaysToManufacture', 'ProductLine', 'Class', 'Style',\n",
       "       'ProductSubcategoryID', 'ProductModelID', 'Title', 'Suffix',\n",
       "       'EmailPromotion', 'cluster'],\n",
       "      dtype='object')"
      ]
     },
     "execution_count": 195,
     "metadata": {},
     "output_type": "execute_result"
    }
   ],
   "source": [
    "data.columns"
   ]
  },
  {
   "cell_type": "code",
   "execution_count": null,
   "metadata": {
    "collapsed": true
   },
   "outputs": [],
   "source": []
  },
  {
   "cell_type": "code",
   "execution_count": 196,
   "metadata": {
    "collapsed": false
   },
   "outputs": [
    {
     "data": {
      "text/plain": [
       "(array([ 30443.,  31172.,      0.,      0.,      0.,      0.,      0.,\n",
       "             0.,      0.,  22833.]),\n",
       " array([   4. ,   53.6,  103.2,  152.8,  202.4,  252. ,  301.6,  351.2,\n",
       "         400.8,  450.4,  500. ]),\n",
       " <a list of 10 Patch objects>)"
      ]
     },
     "execution_count": 196,
     "metadata": {},
     "output_type": "execute_result"
    },
    {
     "data": {
      "image/png": "[encoded data removed]",
      "text/plain": [
       "<matplotlib.figure.Figure at 0x21e319dc518>"
      ]
     },
     "metadata": {},
     "output_type": "display_data"
    }
   ],
   "source": [
    "plt.hist(data.SafetyStockLevel)"
   ]
  },
  {
   "cell_type": "code",
   "execution_count": 197,
   "metadata": {
    "collapsed": false,
    "scrolled": true
   },
   "outputs": [
    {
     "name": "stdout",
     "output_type": "stream",
     "text": [
      "Most of the products where manufactured in 1 day and they are assesories\n"
     ]
    },
    {
     "data": {
      "image/png": "[encoded data removed]",
      "text/plain": [
       "<matplotlib.figure.Figure at 0x21e36a25748>"
      ]
     },
     "metadata": {},
     "output_type": "display_data"
    }
   ],
   "source": [
    "plt.hist(data.DaysToManufacture)\n",
    "print(\"Most of the products where manufactured in 1 day and they are assesories\")"
   ]
  },
  {
   "cell_type": "code",
   "execution_count": 198,
   "metadata": {
    "collapsed": false
   },
   "outputs": [
    {
     "name": "stdout",
     "output_type": "stream",
     "text": [
      "Some of the weight is measued in LB and some in grams\n",
      "We have standardize the data, so lets make everything in grams\n"
     ]
    }
   ],
   "source": [
    "print(\"Some of the weight is measued in LB and some in grams\")\n",
    "print(\"We have standardize the data, so lets make everything in grams\")\n",
    "data.weights = np.where(data.WeightUnitMeasureCode == 'LB ', data.weights * 453, data.weights)"
   ]
  },
  {
   "cell_type": "code",
   "execution_count": 199,
   "metadata": {
    "collapsed": false,
    "scrolled": true
   },
   "outputs": [
    {
     "name": "stdout",
     "output_type": "stream",
     "text": [
      "Accessories are manufacture in 1 day, Bikes take maximum 4 days\n"
     ]
    },
    {
     "data": {
      "text/html": [
       "<div>\n",
       "<table border=\"1\" class=\"dataframe\">\n",
       "  <thead>\n",
       "    <tr style=\"text-align: right;\">\n",
       "      <th>DaysToManufacture</th>\n",
       "      <th>0</th>\n",
       "      <th>1</th>\n",
       "      <th>2</th>\n",
       "      <th>4</th>\n",
       "    </tr>\n",
       "    <tr>\n",
       "      <th>ProductSubcategoryID</th>\n",
       "      <th></th>\n",
       "      <th></th>\n",
       "      <th></th>\n",
       "      <th></th>\n",
       "    </tr>\n",
       "  </thead>\n",
       "  <tbody>\n",
       "    <tr>\n",
       "      <th>1</th>\n",
       "      <td>0</td>\n",
       "      <td>0</td>\n",
       "      <td>0</td>\n",
       "      <td>9592</td>\n",
       "    </tr>\n",
       "    <tr>\n",
       "      <th>2</th>\n",
       "      <td>0</td>\n",
       "      <td>0</td>\n",
       "      <td>0</td>\n",
       "      <td>17708</td>\n",
       "    </tr>\n",
       "    <tr>\n",
       "      <th>3</th>\n",
       "      <td>0</td>\n",
       "      <td>0</td>\n",
       "      <td>0</td>\n",
       "      <td>3872</td>\n",
       "    </tr>\n",
       "    <tr>\n",
       "      <th>4</th>\n",
       "      <td>0</td>\n",
       "      <td>1285</td>\n",
       "      <td>0</td>\n",
       "      <td>0</td>\n",
       "    </tr>\n",
       "    <tr>\n",
       "      <th>5</th>\n",
       "      <td>0</td>\n",
       "      <td>241</td>\n",
       "      <td>0</td>\n",
       "      <td>0</td>\n",
       "    </tr>\n",
       "    <tr>\n",
       "      <th>6</th>\n",
       "      <td>0</td>\n",
       "      <td>263</td>\n",
       "      <td>0</td>\n",
       "      <td>0</td>\n",
       "    </tr>\n",
       "    <tr>\n",
       "      <th>7</th>\n",
       "      <td>0</td>\n",
       "      <td>161</td>\n",
       "      <td>0</td>\n",
       "      <td>0</td>\n",
       "    </tr>\n",
       "    <tr>\n",
       "      <th>8</th>\n",
       "      <td>0</td>\n",
       "      <td>282</td>\n",
       "      <td>0</td>\n",
       "      <td>0</td>\n",
       "    </tr>\n",
       "    <tr>\n",
       "      <th>9</th>\n",
       "      <td>0</td>\n",
       "      <td>263</td>\n",
       "      <td>0</td>\n",
       "      <td>0</td>\n",
       "    </tr>\n",
       "    <tr>\n",
       "      <th>10</th>\n",
       "      <td>0</td>\n",
       "      <td>200</td>\n",
       "      <td>0</td>\n",
       "      <td>0</td>\n",
       "    </tr>\n",
       "    <tr>\n",
       "      <th>11</th>\n",
       "      <td>0</td>\n",
       "      <td>266</td>\n",
       "      <td>0</td>\n",
       "      <td>0</td>\n",
       "    </tr>\n",
       "    <tr>\n",
       "      <th>12</th>\n",
       "      <td>0</td>\n",
       "      <td>2641</td>\n",
       "      <td>1026</td>\n",
       "      <td>0</td>\n",
       "    </tr>\n",
       "    <tr>\n",
       "      <th>13</th>\n",
       "      <td>0</td>\n",
       "      <td>1057</td>\n",
       "      <td>0</td>\n",
       "      <td>0</td>\n",
       "    </tr>\n",
       "    <tr>\n",
       "      <th>14</th>\n",
       "      <td>0</td>\n",
       "      <td>4079</td>\n",
       "      <td>296</td>\n",
       "      <td>0</td>\n",
       "    </tr>\n",
       "    <tr>\n",
       "      <th>15</th>\n",
       "      <td>0</td>\n",
       "      <td>607</td>\n",
       "      <td>0</td>\n",
       "      <td>0</td>\n",
       "    </tr>\n",
       "    <tr>\n",
       "      <th>16</th>\n",
       "      <td>0</td>\n",
       "      <td>971</td>\n",
       "      <td>0</td>\n",
       "      <td>0</td>\n",
       "    </tr>\n",
       "    <tr>\n",
       "      <th>17</th>\n",
       "      <td>0</td>\n",
       "      <td>1904</td>\n",
       "      <td>0</td>\n",
       "      <td>0</td>\n",
       "    </tr>\n",
       "    <tr>\n",
       "      <th>18</th>\n",
       "      <td>759</td>\n",
       "      <td>0</td>\n",
       "      <td>0</td>\n",
       "      <td>0</td>\n",
       "    </tr>\n",
       "    <tr>\n",
       "      <th>19</th>\n",
       "      <td>2139</td>\n",
       "      <td>0</td>\n",
       "      <td>0</td>\n",
       "      <td>0</td>\n",
       "    </tr>\n",
       "    <tr>\n",
       "      <th>20</th>\n",
       "      <td>2688</td>\n",
       "      <td>0</td>\n",
       "      <td>0</td>\n",
       "      <td>0</td>\n",
       "    </tr>\n",
       "    <tr>\n",
       "      <th>21</th>\n",
       "      <td>4876</td>\n",
       "      <td>0</td>\n",
       "      <td>0</td>\n",
       "      <td>0</td>\n",
       "    </tr>\n",
       "    <tr>\n",
       "      <th>22</th>\n",
       "      <td>1778</td>\n",
       "      <td>0</td>\n",
       "      <td>0</td>\n",
       "      <td>0</td>\n",
       "    </tr>\n",
       "    <tr>\n",
       "      <th>23</th>\n",
       "      <td>975</td>\n",
       "      <td>0</td>\n",
       "      <td>0</td>\n",
       "      <td>0</td>\n",
       "    </tr>\n",
       "    <tr>\n",
       "      <th>24</th>\n",
       "      <td>975</td>\n",
       "      <td>0</td>\n",
       "      <td>0</td>\n",
       "      <td>0</td>\n",
       "    </tr>\n",
       "    <tr>\n",
       "      <th>25</th>\n",
       "      <td>860</td>\n",
       "      <td>0</td>\n",
       "      <td>0</td>\n",
       "      <td>0</td>\n",
       "    </tr>\n",
       "    <tr>\n",
       "      <th>26</th>\n",
       "      <td>472</td>\n",
       "      <td>0</td>\n",
       "      <td>0</td>\n",
       "      <td>0</td>\n",
       "    </tr>\n",
       "    <tr>\n",
       "      <th>27</th>\n",
       "      <td>138</td>\n",
       "      <td>0</td>\n",
       "      <td>0</td>\n",
       "      <td>0</td>\n",
       "    </tr>\n",
       "    <tr>\n",
       "      <th>28</th>\n",
       "      <td>4355</td>\n",
       "      <td>0</td>\n",
       "      <td>0</td>\n",
       "      <td>0</td>\n",
       "    </tr>\n",
       "    <tr>\n",
       "      <th>29</th>\n",
       "      <td>775</td>\n",
       "      <td>0</td>\n",
       "      <td>0</td>\n",
       "      <td>0</td>\n",
       "    </tr>\n",
       "    <tr>\n",
       "      <th>30</th>\n",
       "      <td>1100</td>\n",
       "      <td>0</td>\n",
       "      <td>0</td>\n",
       "      <td>0</td>\n",
       "    </tr>\n",
       "    <tr>\n",
       "      <th>31</th>\n",
       "      <td>5634</td>\n",
       "      <td>0</td>\n",
       "      <td>0</td>\n",
       "      <td>0</td>\n",
       "    </tr>\n",
       "    <tr>\n",
       "      <th>32</th>\n",
       "      <td>620</td>\n",
       "      <td>0</td>\n",
       "      <td>0</td>\n",
       "      <td>0</td>\n",
       "    </tr>\n",
       "    <tr>\n",
       "      <th>34</th>\n",
       "      <td>260</td>\n",
       "      <td>0</td>\n",
       "      <td>0</td>\n",
       "      <td>0</td>\n",
       "    </tr>\n",
       "    <tr>\n",
       "      <th>36</th>\n",
       "      <td>267</td>\n",
       "      <td>0</td>\n",
       "      <td>0</td>\n",
       "      <td>0</td>\n",
       "    </tr>\n",
       "    <tr>\n",
       "      <th>37</th>\n",
       "      <td>9063</td>\n",
       "      <td>0</td>\n",
       "      <td>0</td>\n",
       "      <td>0</td>\n",
       "    </tr>\n",
       "  </tbody>\n",
       "</table>\n",
       "</div>"
      ],
      "text/plain": [
       "DaysToManufacture        0     1     2      4\n",
       "ProductSubcategoryID                         \n",
       "1                        0     0     0   9592\n",
       "2                        0     0     0  17708\n",
       "3                        0     0     0   3872\n",
       "4                        0  1285     0      0\n",
       "5                        0   241     0      0\n",
       "6                        0   263     0      0\n",
       "7                        0   161     0      0\n",
       "8                        0   282     0      0\n",
       "9                        0   263     0      0\n",
       "10                       0   200     0      0\n",
       "11                       0   266     0      0\n",
       "12                       0  2641  1026      0\n",
       "13                       0  1057     0      0\n",
       "14                       0  4079   296      0\n",
       "15                       0   607     0      0\n",
       "16                       0   971     0      0\n",
       "17                       0  1904     0      0\n",
       "18                     759     0     0      0\n",
       "19                    2139     0     0      0\n",
       "20                    2688     0     0      0\n",
       "21                    4876     0     0      0\n",
       "22                    1778     0     0      0\n",
       "23                     975     0     0      0\n",
       "24                     975     0     0      0\n",
       "25                     860     0     0      0\n",
       "26                     472     0     0      0\n",
       "27                     138     0     0      0\n",
       "28                    4355     0     0      0\n",
       "29                     775     0     0      0\n",
       "30                    1100     0     0      0\n",
       "31                    5634     0     0      0\n",
       "32                     620     0     0      0\n",
       "34                     260     0     0      0\n",
       "36                     267     0     0      0\n",
       "37                    9063     0     0      0"
      ]
     },
     "execution_count": 199,
     "metadata": {},
     "output_type": "execute_result"
    }
   ],
   "source": [
    "print(\"Accessories are manufacture in 1 day, Bikes take maximum 4 days\")\n",
    "pd.crosstab(data.ProductSubcategoryID,data.DaysToManufacture)"
   ]
  },
  {
   "cell_type": "code",
   "execution_count": 200,
   "metadata": {
    "collapsed": false
   },
   "outputs": [
    {
     "data": {
      "text/plain": [
       "<matplotlib.collections.PathCollection at 0x21e36af4978>"
      ]
     },
     "execution_count": 200,
     "metadata": {},
     "output_type": "execute_result"
    },
    {
     "data": {
      "image/png": "[encoded data removed]",
      "text/plain": [
       "<matplotlib.figure.Figure at 0x21e36aee7f0>"
      ]
     },
     "metadata": {},
     "output_type": "display_data"
    }
   ],
   "source": [
    "plt.scatter(data.ProductSubcategoryID,data.UnitPrice)\n",
    "# ProductSubcategory ID 1-5 are costly items"
   ]
  },
  {
   "cell_type": "code",
   "execution_count": 201,
   "metadata": {
    "collapsed": false
   },
   "outputs": [],
   "source": [
    "df = data[[\"RevisionNumber\",\"delayed\",\"OnlineOrderFlag\",\"SubTotal\",\"TaxAmt\",\"Freight\",\"TotalDue\",\"ProductSubcategoryID\",\"OrderQty\",\"ProductID\",\"UnitPrice\",\"UnitPriceDiscount\",\"LineTotal\",\"MakeFlag\",\"FinishedGoodsFlag\",\"SafetyStockLevel\",\"ReorderPoint\",\"StandardCost\",\"ListPrice\",\"DaysToManufacture\"]]"
   ]
  },
  {
   "cell_type": "code",
   "execution_count": 202,
   "metadata": {
    "collapsed": false
   },
   "outputs": [
    {
     "data": {
      "text/plain": [
       "RevisionNumber          0\n",
       "delayed                 0\n",
       "OnlineOrderFlag         0\n",
       "SubTotal                0\n",
       "TaxAmt                  0\n",
       "Freight                 0\n",
       "TotalDue                0\n",
       "ProductSubcategoryID    0\n",
       "OrderQty                0\n",
       "ProductID               0\n",
       "UnitPrice               0\n",
       "UnitPriceDiscount       0\n",
       "LineTotal               0\n",
       "MakeFlag                0\n",
       "FinishedGoodsFlag       0\n",
       "SafetyStockLevel        0\n",
       "ReorderPoint            0\n",
       "StandardCost            0\n",
       "ListPrice               0\n",
       "DaysToManufacture       0\n",
       "dtype: int64"
      ]
     },
     "execution_count": 202,
     "metadata": {},
     "output_type": "execute_result"
    }
   ],
   "source": [
    "df.isnull().sum()"
   ]
  },
  {
   "cell_type": "code",
   "execution_count": 203,
   "metadata": {
    "collapsed": false
   },
   "outputs": [],
   "source": [
    "from sklearn.preprocessing import LabelEncoder\n",
    "le = LabelEncoder()\n",
    "for i in df.columns:\n",
    "    if df[i].dtypes == 'object':\n",
    "        df[i] = le.fit_transform(df[i])"
   ]
  },
  {
   "cell_type": "code",
   "execution_count": 204,
   "metadata": {
    "collapsed": false
   },
   "outputs": [
    {
     "data": {
      "text/plain": [
       "0    43434\n",
       "3    22451\n",
       "1    12762\n",
       "2     5801\n",
       "Name: cluster, dtype: int64"
      ]
     },
     "execution_count": 204,
     "metadata": {},
     "output_type": "execute_result"
    }
   ],
   "source": [
    "from sklearn.cluster import KMeans\n",
    "cluster = KMeans(n_clusters=4)\n",
    "# slice matrix so we only include the 0/1 indicator columns in the clustering\n",
    "clusters = cluster.fit_predict(df)\n",
    "data['cluster'] = clusters\n",
    "data.cluster.value_counts()"
   ]
  },
  {
   "cell_type": "code",
   "execution_count": 248,
   "metadata": {
    "collapsed": false
   },
   "outputs": [
    {
     "ename": "MemoryError",
     "evalue": "",
     "output_type": "error",
     "traceback": [
      "\u001b[0;31m---------------------------------------------------------------------------\u001b[0m",
      "\u001b[0;31mMemoryError\u001b[0m                               Traceback (most recent call last)",
      "\u001b[0;32m<ipython-input-248-0d667b16d64e>\u001b[0m in \u001b[0;36m<module>\u001b[0;34m()\u001b[0m\n\u001b[1;32m      1\u001b[0m \u001b[1;32mfrom\u001b[0m \u001b[0msklearn\u001b[0m\u001b[1;33m.\u001b[0m\u001b[0mmetrics\u001b[0m \u001b[1;32mimport\u001b[0m \u001b[0msilhouette_score\u001b[0m\u001b[1;33m\u001b[0m\u001b[0m\n\u001b[0;32m----> 2\u001b[0;31m \u001b[0mss\u001b[0m \u001b[1;33m=\u001b[0m \u001b[0msilhouette_score\u001b[0m\u001b[1;33m(\u001b[0m\u001b[0mdf\u001b[0m\u001b[1;33m,\u001b[0m\u001b[0mclusters\u001b[0m\u001b[1;33m)\u001b[0m\u001b[1;33m\u001b[0m\u001b[0m\n\u001b[0m\u001b[1;32m      3\u001b[0m \u001b[0mss\u001b[0m\u001b[1;33m\u001b[0m\u001b[0m\n",
      "\u001b[0;32mC:\\Users\\kulka\\Anaconda3\\lib\\site-packages\\sklearn\\metrics\\cluster\\unsupervised.py\u001b[0m in \u001b[0;36msilhouette_score\u001b[0;34m(X, labels, metric, sample_size, random_state, **kwds)\u001b[0m\n\u001b[1;32m     98\u001b[0m         \u001b[1;32melse\u001b[0m\u001b[1;33m:\u001b[0m\u001b[1;33m\u001b[0m\u001b[0m\n\u001b[1;32m     99\u001b[0m             \u001b[0mX\u001b[0m\u001b[1;33m,\u001b[0m \u001b[0mlabels\u001b[0m \u001b[1;33m=\u001b[0m \u001b[0mX\u001b[0m\u001b[1;33m[\u001b[0m\u001b[0mindices\u001b[0m\u001b[1;33m]\u001b[0m\u001b[1;33m,\u001b[0m \u001b[0mlabels\u001b[0m\u001b[1;33m[\u001b[0m\u001b[0mindices\u001b[0m\u001b[1;33m]\u001b[0m\u001b[1;33m\u001b[0m\u001b[0m\n\u001b[0;32m--> 100\u001b[0;31m     \u001b[1;32mreturn\u001b[0m \u001b[0mnp\u001b[0m\u001b[1;33m.\u001b[0m\u001b[0mmean\u001b[0m\u001b[1;33m(\u001b[0m\u001b[0msilhouette_samples\u001b[0m\u001b[1;33m(\u001b[0m\u001b[0mX\u001b[0m\u001b[1;33m,\u001b[0m \u001b[0mlabels\u001b[0m\u001b[1;33m,\u001b[0m \u001b[0mmetric\u001b[0m\u001b[1;33m=\u001b[0m\u001b[0mmetric\u001b[0m\u001b[1;33m,\u001b[0m \u001b[1;33m**\u001b[0m\u001b[0mkwds\u001b[0m\u001b[1;33m)\u001b[0m\u001b[1;33m)\u001b[0m\u001b[1;33m\u001b[0m\u001b[0m\n\u001b[0m\u001b[1;32m    101\u001b[0m \u001b[1;33m\u001b[0m\u001b[0m\n\u001b[1;32m    102\u001b[0m \u001b[1;33m\u001b[0m\u001b[0m\n",
      "\u001b[0;32mC:\\Users\\kulka\\Anaconda3\\lib\\site-packages\\sklearn\\metrics\\cluster\\unsupervised.py\u001b[0m in \u001b[0;36msilhouette_samples\u001b[0;34m(X, labels, metric, **kwds)\u001b[0m\n\u001b[1;32m    166\u001b[0m     \u001b[0mcheck_number_of_labels\u001b[0m\u001b[1;33m(\u001b[0m\u001b[0mlen\u001b[0m\u001b[1;33m(\u001b[0m\u001b[0mle\u001b[0m\u001b[1;33m.\u001b[0m\u001b[0mclasses_\u001b[0m\u001b[1;33m)\u001b[0m\u001b[1;33m,\u001b[0m \u001b[0mX\u001b[0m\u001b[1;33m.\u001b[0m\u001b[0mshape\u001b[0m\u001b[1;33m[\u001b[0m\u001b[1;36m0\u001b[0m\u001b[1;33m]\u001b[0m\u001b[1;33m)\u001b[0m\u001b[1;33m\u001b[0m\u001b[0m\n\u001b[1;32m    167\u001b[0m \u001b[1;33m\u001b[0m\u001b[0m\n\u001b[0;32m--> 168\u001b[0;31m     \u001b[0mdistances\u001b[0m \u001b[1;33m=\u001b[0m \u001b[0mpairwise_distances\u001b[0m\u001b[1;33m(\u001b[0m\u001b[0mX\u001b[0m\u001b[1;33m,\u001b[0m \u001b[0mmetric\u001b[0m\u001b[1;33m=\u001b[0m\u001b[0mmetric\u001b[0m\u001b[1;33m,\u001b[0m \u001b[1;33m**\u001b[0m\u001b[0mkwds\u001b[0m\u001b[1;33m)\u001b[0m\u001b[1;33m\u001b[0m\u001b[0m\n\u001b[0m\u001b[1;32m    169\u001b[0m     \u001b[0munique_labels\u001b[0m \u001b[1;33m=\u001b[0m \u001b[0mle\u001b[0m\u001b[1;33m.\u001b[0m\u001b[0mclasses_\u001b[0m\u001b[1;33m\u001b[0m\u001b[0m\n\u001b[1;32m    170\u001b[0m     \u001b[0mn_samples_per_label\u001b[0m \u001b[1;33m=\u001b[0m \u001b[0mbincount\u001b[0m\u001b[1;33m(\u001b[0m\u001b[0mlabels\u001b[0m\u001b[1;33m,\u001b[0m \u001b[0mminlength\u001b[0m\u001b[1;33m=\u001b[0m\u001b[0mlen\u001b[0m\u001b[1;33m(\u001b[0m\u001b[0munique_labels\u001b[0m\u001b[1;33m)\u001b[0m\u001b[1;33m)\u001b[0m\u001b[1;33m\u001b[0m\u001b[0m\n",
      "\u001b[0;32mC:\\Users\\kulka\\Anaconda3\\lib\\site-packages\\sklearn\\metrics\\pairwise.py\u001b[0m in \u001b[0;36mpairwise_distances\u001b[0;34m(X, Y, metric, n_jobs, **kwds)\u001b[0m\n\u001b[1;32m   1238\u001b[0m         \u001b[0mfunc\u001b[0m \u001b[1;33m=\u001b[0m \u001b[0mpartial\u001b[0m\u001b[1;33m(\u001b[0m\u001b[0mdistance\u001b[0m\u001b[1;33m.\u001b[0m\u001b[0mcdist\u001b[0m\u001b[1;33m,\u001b[0m \u001b[0mmetric\u001b[0m\u001b[1;33m=\u001b[0m\u001b[0mmetric\u001b[0m\u001b[1;33m,\u001b[0m \u001b[1;33m**\u001b[0m\u001b[0mkwds\u001b[0m\u001b[1;33m)\u001b[0m\u001b[1;33m\u001b[0m\u001b[0m\n\u001b[1;32m   1239\u001b[0m \u001b[1;33m\u001b[0m\u001b[0m\n\u001b[0;32m-> 1240\u001b[0;31m     \u001b[1;32mreturn\u001b[0m \u001b[0m_parallel_pairwise\u001b[0m\u001b[1;33m(\u001b[0m\u001b[0mX\u001b[0m\u001b[1;33m,\u001b[0m \u001b[0mY\u001b[0m\u001b[1;33m,\u001b[0m \u001b[0mfunc\u001b[0m\u001b[1;33m,\u001b[0m \u001b[0mn_jobs\u001b[0m\u001b[1;33m,\u001b[0m \u001b[1;33m**\u001b[0m\u001b[0mkwds\u001b[0m\u001b[1;33m)\u001b[0m\u001b[1;33m\u001b[0m\u001b[0m\n\u001b[0m\u001b[1;32m   1241\u001b[0m \u001b[1;33m\u001b[0m\u001b[0m\n\u001b[1;32m   1242\u001b[0m \u001b[1;33m\u001b[0m\u001b[0m\n",
      "\u001b[0;32mC:\\Users\\kulka\\Anaconda3\\lib\\site-packages\\sklearn\\metrics\\pairwise.py\u001b[0m in \u001b[0;36m_parallel_pairwise\u001b[0;34m(X, Y, func, n_jobs, **kwds)\u001b[0m\n\u001b[1;32m   1081\u001b[0m     \u001b[1;32mif\u001b[0m \u001b[0mn_jobs\u001b[0m \u001b[1;33m==\u001b[0m \u001b[1;36m1\u001b[0m\u001b[1;33m:\u001b[0m\u001b[1;33m\u001b[0m\u001b[0m\n\u001b[1;32m   1082\u001b[0m         \u001b[1;31m# Special case to avoid picklability checks in delayed\u001b[0m\u001b[1;33m\u001b[0m\u001b[1;33m\u001b[0m\u001b[0m\n\u001b[0;32m-> 1083\u001b[0;31m         \u001b[1;32mreturn\u001b[0m \u001b[0mfunc\u001b[0m\u001b[1;33m(\u001b[0m\u001b[0mX\u001b[0m\u001b[1;33m,\u001b[0m \u001b[0mY\u001b[0m\u001b[1;33m,\u001b[0m \u001b[1;33m**\u001b[0m\u001b[0mkwds\u001b[0m\u001b[1;33m)\u001b[0m\u001b[1;33m\u001b[0m\u001b[0m\n\u001b[0m\u001b[1;32m   1084\u001b[0m \u001b[1;33m\u001b[0m\u001b[0m\n\u001b[1;32m   1085\u001b[0m     \u001b[1;31m# TODO: in some cases, backend='threading' may be appropriate\u001b[0m\u001b[1;33m\u001b[0m\u001b[1;33m\u001b[0m\u001b[0m\n",
      "\u001b[0;32mC:\\Users\\kulka\\Anaconda3\\lib\\site-packages\\sklearn\\metrics\\pairwise.py\u001b[0m in \u001b[0;36meuclidean_distances\u001b[0;34m(X, Y, Y_norm_squared, squared, X_norm_squared)\u001b[0m\n\u001b[1;32m    243\u001b[0m         \u001b[0mYY\u001b[0m \u001b[1;33m=\u001b[0m \u001b[0mrow_norms\u001b[0m\u001b[1;33m(\u001b[0m\u001b[0mY\u001b[0m\u001b[1;33m,\u001b[0m \u001b[0msquared\u001b[0m\u001b[1;33m=\u001b[0m\u001b[1;32mTrue\u001b[0m\u001b[1;33m)\u001b[0m\u001b[1;33m[\u001b[0m\u001b[0mnp\u001b[0m\u001b[1;33m.\u001b[0m\u001b[0mnewaxis\u001b[0m\u001b[1;33m,\u001b[0m \u001b[1;33m:\u001b[0m\u001b[1;33m]\u001b[0m\u001b[1;33m\u001b[0m\u001b[0m\n\u001b[1;32m    244\u001b[0m \u001b[1;33m\u001b[0m\u001b[0m\n\u001b[0;32m--> 245\u001b[0;31m     \u001b[0mdistances\u001b[0m \u001b[1;33m=\u001b[0m \u001b[0msafe_sparse_dot\u001b[0m\u001b[1;33m(\u001b[0m\u001b[0mX\u001b[0m\u001b[1;33m,\u001b[0m \u001b[0mY\u001b[0m\u001b[1;33m.\u001b[0m\u001b[0mT\u001b[0m\u001b[1;33m,\u001b[0m \u001b[0mdense_output\u001b[0m\u001b[1;33m=\u001b[0m\u001b[1;32mTrue\u001b[0m\u001b[1;33m)\u001b[0m\u001b[1;33m\u001b[0m\u001b[0m\n\u001b[0m\u001b[1;32m    246\u001b[0m     \u001b[0mdistances\u001b[0m \u001b[1;33m*=\u001b[0m \u001b[1;33m-\u001b[0m\u001b[1;36m2\u001b[0m\u001b[1;33m\u001b[0m\u001b[0m\n\u001b[1;32m    247\u001b[0m     \u001b[0mdistances\u001b[0m \u001b[1;33m+=\u001b[0m \u001b[0mXX\u001b[0m\u001b[1;33m\u001b[0m\u001b[0m\n",
      "\u001b[0;32mC:\\Users\\kulka\\Anaconda3\\lib\\site-packages\\sklearn\\utils\\extmath.py\u001b[0m in \u001b[0;36msafe_sparse_dot\u001b[0;34m(a, b, dense_output)\u001b[0m\n\u001b[1;32m    187\u001b[0m         \u001b[1;32mreturn\u001b[0m \u001b[0mret\u001b[0m\u001b[1;33m\u001b[0m\u001b[0m\n\u001b[1;32m    188\u001b[0m     \u001b[1;32melse\u001b[0m\u001b[1;33m:\u001b[0m\u001b[1;33m\u001b[0m\u001b[0m\n\u001b[0;32m--> 189\u001b[0;31m         \u001b[1;32mreturn\u001b[0m \u001b[0mfast_dot\u001b[0m\u001b[1;33m(\u001b[0m\u001b[0ma\u001b[0m\u001b[1;33m,\u001b[0m \u001b[0mb\u001b[0m\u001b[1;33m)\u001b[0m\u001b[1;33m\u001b[0m\u001b[0m\n\u001b[0m\u001b[1;32m    190\u001b[0m \u001b[1;33m\u001b[0m\u001b[0m\n\u001b[1;32m    191\u001b[0m \u001b[1;33m\u001b[0m\u001b[0m\n",
      "\u001b[0;31mMemoryError\u001b[0m: "
     ]
    }
   ],
   "source": [
    "#from sklearn.metrics import silhouette_score\n",
    "#ss = silhouette_score(df,clusters)\n",
    "#ss"
   ]
  },
  {
   "cell_type": "code",
   "execution_count": 206,
   "metadata": {
    "collapsed": false
   },
   "outputs": [
    {
     "data": {
      "image/png": "[encoded data removed]",
      "text/plain": [
       "<matplotlib.figure.Figure at 0x21e31a07240>"
      ]
     },
     "metadata": {},
     "output_type": "display_data"
    }
   ],
   "source": [
    "import matplotlib.pyplot as plt\n",
    "%matplotlib inline\n",
    "colormap = np.array(['red', 'lime', 'black','blue'])\n",
    "plt.scatter(data.cluster,data.ProductID,c=colormap[data.cluster], s=40)\n",
    "plt.show()"
   ]
  },
  {
   "cell_type": "code",
   "execution_count": 207,
   "metadata": {
    "collapsed": false
   },
   "outputs": [
    {
     "data": {
      "text/plain": [
       "Index(['SalesOrderID', 'RevisionNumber', 'delayed', 'OnlineOrderFlag',\n",
       "       'CustomerID', 'SalesPersonID', 'CreditCardID', 'SubTotal', 'TaxAmt',\n",
       "       'Freight', 'TotalDue', 'SalesOrderDetailID', 'OrderQty', 'ProductID',\n",
       "       'SpecialOfferID', 'UnitPrice', 'UnitPriceDiscount', 'LineTotal', 'Name',\n",
       "       'ProductNumber', 'MakeFlag', 'FinishedGoodsFlag', 'Color',\n",
       "       'SafetyStockLevel', 'ReorderPoint', 'StandardCost', 'ListPrice', 'Size',\n",
       "       'SizeUnitMeasureCode', 'WeightUnitMeasureCode', 'weights',\n",
       "       'DaysToManufacture', 'ProductLine', 'Class', 'Style',\n",
       "       'ProductSubcategoryID', 'ProductModelID', 'Title', 'Suffix',\n",
       "       'EmailPromotion', 'cluster'],\n",
       "      dtype='object')"
      ]
     },
     "execution_count": 207,
     "metadata": {},
     "output_type": "execute_result"
    }
   ],
   "source": [
    "data.columns"
   ]
  },
  {
   "cell_type": "code",
   "execution_count": 208,
   "metadata": {
    "collapsed": false
   },
   "outputs": [],
   "source": [
    "c1 = data[data.cluster == 0]\n",
    "c2 = data[data.cluster == 1]\n",
    "c3 = data[data.cluster == 2]\n",
    "c4 = data[data.cluster == 3]"
   ]
  },
  {
   "cell_type": "code",
   "execution_count": 209,
   "metadata": {
    "collapsed": false
   },
   "outputs": [
    {
     "data": {
      "text/html": [
       "<div>\n",
       "<table border=\"1\" class=\"dataframe\">\n",
       "  <thead>\n",
       "    <tr style=\"text-align: right;\">\n",
       "      <th></th>\n",
       "      <th>SalesOrderID</th>\n",
       "      <th>RevisionNumber</th>\n",
       "      <th>delayed</th>\n",
       "      <th>OnlineOrderFlag</th>\n",
       "      <th>CustomerID</th>\n",
       "      <th>SalesPersonID</th>\n",
       "      <th>CreditCardID</th>\n",
       "      <th>SubTotal</th>\n",
       "      <th>TaxAmt</th>\n",
       "      <th>Freight</th>\n",
       "      <th>...</th>\n",
       "      <th>SafetyStockLevel</th>\n",
       "      <th>ReorderPoint</th>\n",
       "      <th>StandardCost</th>\n",
       "      <th>ListPrice</th>\n",
       "      <th>weights</th>\n",
       "      <th>DaysToManufacture</th>\n",
       "      <th>ProductSubcategoryID</th>\n",
       "      <th>ProductModelID</th>\n",
       "      <th>EmailPromotion</th>\n",
       "      <th>cluster</th>\n",
       "    </tr>\n",
       "  </thead>\n",
       "  <tbody>\n",
       "    <tr>\n",
       "      <th>count</th>\n",
       "      <td>43434.000000</td>\n",
       "      <td>43434.000000</td>\n",
       "      <td>43434.000000</td>\n",
       "      <td>43434.000000</td>\n",
       "      <td>43434.000000</td>\n",
       "      <td>10061.000000</td>\n",
       "      <td>42062.000000</td>\n",
       "      <td>43434.000000</td>\n",
       "      <td>43434.000000</td>\n",
       "      <td>43434.000000</td>\n",
       "      <td>...</td>\n",
       "      <td>43434.000000</td>\n",
       "      <td>43434.000000</td>\n",
       "      <td>43434.000000</td>\n",
       "      <td>43434.000000</td>\n",
       "      <td>1.626600e+04</td>\n",
       "      <td>43434.000000</td>\n",
       "      <td>43434.000000</td>\n",
       "      <td>43434.000000</td>\n",
       "      <td>42062.000000</td>\n",
       "      <td>43434.0</td>\n",
       "    </tr>\n",
       "    <tr>\n",
       "      <th>mean</th>\n",
       "      <td>54595.042685</td>\n",
       "      <td>8.001980</td>\n",
       "      <td>0.381959</td>\n",
       "      <td>0.768361</td>\n",
       "      <td>21195.584703</td>\n",
       "      <td>280.320644</td>\n",
       "      <td>9760.657838</td>\n",
       "      <td>2461.235937</td>\n",
       "      <td>227.464905</td>\n",
       "      <td>71.082802</td>\n",
       "      <td>...</td>\n",
       "      <td>146.633329</td>\n",
       "      <td>109.974997</td>\n",
       "      <td>390.530710</td>\n",
       "      <td>659.493538</td>\n",
       "      <td>3.699653e+06</td>\n",
       "      <td>1.377607</td>\n",
       "      <td>19.556292</td>\n",
       "      <td>53.499816</td>\n",
       "      <td>0.632947</td>\n",
       "      <td>0.0</td>\n",
       "    </tr>\n",
       "    <tr>\n",
       "      <th>std</th>\n",
       "      <td>5495.101124</td>\n",
       "      <td>0.044454</td>\n",
       "      <td>0.485872</td>\n",
       "      <td>0.421884</td>\n",
       "      <td>6752.822748</td>\n",
       "      <td>4.728111</td>\n",
       "      <td>5600.291895</td>\n",
       "      <td>3596.705341</td>\n",
       "      <td>363.827858</td>\n",
       "      <td>113.696200</td>\n",
       "      <td>...</td>\n",
       "      <td>194.267262</td>\n",
       "      <td>145.700446</td>\n",
       "      <td>621.201673</td>\n",
       "      <td>1042.334953</td>\n",
       "      <td>1.488201e+06</td>\n",
       "      <td>1.855371</td>\n",
       "      <td>13.954365</td>\n",
       "      <td>39.898695</td>\n",
       "      <td>0.775018</td>\n",
       "      <td>0.0</td>\n",
       "    </tr>\n",
       "    <tr>\n",
       "      <th>min</th>\n",
       "      <td>43660.000000</td>\n",
       "      <td>8.000000</td>\n",
       "      <td>0.000000</td>\n",
       "      <td>0.000000</td>\n",
       "      <td>11000.000000</td>\n",
       "      <td>274.000000</td>\n",
       "      <td>1.000000</td>\n",
       "      <td>1.374000</td>\n",
       "      <td>0.109900</td>\n",
       "      <td>0.034400</td>\n",
       "      <td>...</td>\n",
       "      <td>4.000000</td>\n",
       "      <td>3.000000</td>\n",
       "      <td>0.856500</td>\n",
       "      <td>2.290000</td>\n",
       "      <td>8.800000e+01</td>\n",
       "      <td>0.000000</td>\n",
       "      <td>1.000000</td>\n",
       "      <td>1.000000</td>\n",
       "      <td>0.000000</td>\n",
       "      <td>0.0</td>\n",
       "    </tr>\n",
       "    <tr>\n",
       "      <th>25%</th>\n",
       "      <td>50708.000000</td>\n",
       "      <td>8.000000</td>\n",
       "      <td>0.000000</td>\n",
       "      <td>1.000000</td>\n",
       "      <td>14584.000000</td>\n",
       "      <td>277.000000</td>\n",
       "      <td>4983.000000</td>\n",
       "      <td>75.516000</td>\n",
       "      <td>6.077600</td>\n",
       "      <td>1.899300</td>\n",
       "      <td>...</td>\n",
       "      <td>4.000000</td>\n",
       "      <td>3.000000</td>\n",
       "      <td>6.922300</td>\n",
       "      <td>8.990000</td>\n",
       "      <td>3.104812e+06</td>\n",
       "      <td>0.000000</td>\n",
       "      <td>2.000000</td>\n",
       "      <td>25.000000</td>\n",
       "      <td>0.000000</td>\n",
       "      <td>0.0</td>\n",
       "    </tr>\n",
       "    <tr>\n",
       "      <th>50%</th>\n",
       "      <td>54902.500000</td>\n",
       "      <td>8.000000</td>\n",
       "      <td>0.000000</td>\n",
       "      <td>1.000000</td>\n",
       "      <td>20983.000000</td>\n",
       "      <td>279.000000</td>\n",
       "      <td>9775.500000</td>\n",
       "      <td>1174.480000</td>\n",
       "      <td>94.677600</td>\n",
       "      <td>29.586800</td>\n",
       "      <td>...</td>\n",
       "      <td>100.000000</td>\n",
       "      <td>75.000000</td>\n",
       "      <td>15.670900</td>\n",
       "      <td>37.990000</td>\n",
       "      <td>3.985159e+06</td>\n",
       "      <td>0.000000</td>\n",
       "      <td>21.000000</td>\n",
       "      <td>33.000000</td>\n",
       "      <td>0.000000</td>\n",
       "      <td>0.0</td>\n",
       "    </tr>\n",
       "    <tr>\n",
       "      <th>75%</th>\n",
       "      <td>59241.750000</td>\n",
       "      <td>8.000000</td>\n",
       "      <td>1.000000</td>\n",
       "      <td>1.000000</td>\n",
       "      <td>28871.000000</td>\n",
       "      <td>283.000000</td>\n",
       "      <td>14612.000000</td>\n",
       "      <td>2479.940000</td>\n",
       "      <td>199.379600</td>\n",
       "      <td>62.306125</td>\n",
       "      <td>...</td>\n",
       "      <td>100.000000</td>\n",
       "      <td>75.000000</td>\n",
       "      <td>486.706600</td>\n",
       "      <td>782.990000</td>\n",
       "      <td>4.791630e+06</td>\n",
       "      <td>4.000000</td>\n",
       "      <td>31.000000</td>\n",
       "      <td>92.000000</td>\n",
       "      <td>1.000000</td>\n",
       "      <td>0.0</td>\n",
       "    </tr>\n",
       "    <tr>\n",
       "      <th>max</th>\n",
       "      <td>63552.000000</td>\n",
       "      <td>9.000000</td>\n",
       "      <td>1.000000</td>\n",
       "      <td>1.000000</td>\n",
       "      <td>30117.000000</td>\n",
       "      <td>290.000000</td>\n",
       "      <td>19235.000000</td>\n",
       "      <td>17871.445200</td>\n",
       "      <td>2852.676600</td>\n",
       "      <td>891.461400</td>\n",
       "      <td>...</td>\n",
       "      <td>500.000000</td>\n",
       "      <td>375.000000</td>\n",
       "      <td>2171.294200</td>\n",
       "      <td>3578.270000</td>\n",
       "      <td>6.156270e+06</td>\n",
       "      <td>4.000000</td>\n",
       "      <td>37.000000</td>\n",
       "      <td>128.000000</td>\n",
       "      <td>2.000000</td>\n",
       "      <td>0.0</td>\n",
       "    </tr>\n",
       "  </tbody>\n",
       "</table>\n",
       "<p>8 rows × 30 columns</p>\n",
       "</div>"
      ],
      "text/plain": [
       "       SalesOrderID  RevisionNumber       delayed  OnlineOrderFlag  \\\n",
       "count  43434.000000    43434.000000  43434.000000     43434.000000   \n",
       "mean   54595.042685        8.001980      0.381959         0.768361   \n",
       "std     5495.101124        0.044454      0.485872         0.421884   \n",
       "min    43660.000000        8.000000      0.000000         0.000000   \n",
       "25%    50708.000000        8.000000      0.000000         1.000000   \n",
       "50%    54902.500000        8.000000      0.000000         1.000000   \n",
       "75%    59241.750000        8.000000      1.000000         1.000000   \n",
       "max    63552.000000        9.000000      1.000000         1.000000   \n",
       "\n",
       "         CustomerID  SalesPersonID  CreditCardID      SubTotal        TaxAmt  \\\n",
       "count  43434.000000   10061.000000  42062.000000  43434.000000  43434.000000   \n",
       "mean   21195.584703     280.320644   9760.657838   2461.235937    227.464905   \n",
       "std     6752.822748       4.728111   5600.291895   3596.705341    363.827858   \n",
       "min    11000.000000     274.000000      1.000000      1.374000      0.109900   \n",
       "25%    14584.000000     277.000000   4983.000000     75.516000      6.077600   \n",
       "50%    20983.000000     279.000000   9775.500000   1174.480000     94.677600   \n",
       "75%    28871.000000     283.000000  14612.000000   2479.940000    199.379600   \n",
       "max    30117.000000     290.000000  19235.000000  17871.445200   2852.676600   \n",
       "\n",
       "            Freight   ...     SafetyStockLevel  ReorderPoint  StandardCost  \\\n",
       "count  43434.000000   ...         43434.000000  43434.000000  43434.000000   \n",
       "mean      71.082802   ...           146.633329    109.974997    390.530710   \n",
       "std      113.696200   ...           194.267262    145.700446    621.201673   \n",
       "min        0.034400   ...             4.000000      3.000000      0.856500   \n",
       "25%        1.899300   ...             4.000000      3.000000      6.922300   \n",
       "50%       29.586800   ...           100.000000     75.000000     15.670900   \n",
       "75%       62.306125   ...           100.000000     75.000000    486.706600   \n",
       "max      891.461400   ...           500.000000    375.000000   2171.294200   \n",
       "\n",
       "          ListPrice       weights  DaysToManufacture  ProductSubcategoryID  \\\n",
       "count  43434.000000  1.626600e+04       43434.000000          43434.000000   \n",
       "mean     659.493538  3.699653e+06           1.377607             19.556292   \n",
       "std     1042.334953  1.488201e+06           1.855371             13.954365   \n",
       "min        2.290000  8.800000e+01           0.000000              1.000000   \n",
       "25%        8.990000  3.104812e+06           0.000000              2.000000   \n",
       "50%       37.990000  3.985159e+06           0.000000             21.000000   \n",
       "75%      782.990000  4.791630e+06           4.000000             31.000000   \n",
       "max     3578.270000  6.156270e+06           4.000000             37.000000   \n",
       "\n",
       "       ProductModelID  EmailPromotion  cluster  \n",
       "count    43434.000000    42062.000000  43434.0  \n",
       "mean        53.499816        0.632947      0.0  \n",
       "std         39.898695        0.775018      0.0  \n",
       "min          1.000000        0.000000      0.0  \n",
       "25%         25.000000        0.000000      0.0  \n",
       "50%         33.000000        0.000000      0.0  \n",
       "75%         92.000000        1.000000      0.0  \n",
       "max        128.000000        2.000000      0.0  \n",
       "\n",
       "[8 rows x 30 columns]"
      ]
     },
     "execution_count": 209,
     "metadata": {},
     "output_type": "execute_result"
    }
   ],
   "source": [
    "c1.describe()"
   ]
  },
  {
   "cell_type": "code",
   "execution_count": 210,
   "metadata": {
    "collapsed": false
   },
   "outputs": [
    {
     "data": {
      "text/html": [
       "<div>\n",
       "<table border=\"1\" class=\"dataframe\">\n",
       "  <thead>\n",
       "    <tr style=\"text-align: right;\">\n",
       "      <th></th>\n",
       "      <th>SalesOrderID</th>\n",
       "      <th>RevisionNumber</th>\n",
       "      <th>delayed</th>\n",
       "      <th>OnlineOrderFlag</th>\n",
       "      <th>CustomerID</th>\n",
       "      <th>SalesPersonID</th>\n",
       "      <th>CreditCardID</th>\n",
       "      <th>SubTotal</th>\n",
       "      <th>TaxAmt</th>\n",
       "      <th>Freight</th>\n",
       "      <th>...</th>\n",
       "      <th>SafetyStockLevel</th>\n",
       "      <th>ReorderPoint</th>\n",
       "      <th>StandardCost</th>\n",
       "      <th>ListPrice</th>\n",
       "      <th>weights</th>\n",
       "      <th>DaysToManufacture</th>\n",
       "      <th>ProductSubcategoryID</th>\n",
       "      <th>ProductModelID</th>\n",
       "      <th>EmailPromotion</th>\n",
       "      <th>cluster</th>\n",
       "    </tr>\n",
       "  </thead>\n",
       "  <tbody>\n",
       "    <tr>\n",
       "      <th>count</th>\n",
       "      <td>12762.000000</td>\n",
       "      <td>12762.0</td>\n",
       "      <td>12762.000000</td>\n",
       "      <td>12762.0</td>\n",
       "      <td>12762.000000</td>\n",
       "      <td>12762.000000</td>\n",
       "      <td>12762.000000</td>\n",
       "      <td>12762.000000</td>\n",
       "      <td>12762.000000</td>\n",
       "      <td>12762.000000</td>\n",
       "      <td>...</td>\n",
       "      <td>12762.000000</td>\n",
       "      <td>12762.000000</td>\n",
       "      <td>12762.000000</td>\n",
       "      <td>12762.000000</td>\n",
       "      <td>8.246000e+03</td>\n",
       "      <td>12762.000000</td>\n",
       "      <td>12762.000000</td>\n",
       "      <td>12762.000000</td>\n",
       "      <td>12762.000000</td>\n",
       "      <td>12762.0</td>\n",
       "    </tr>\n",
       "    <tr>\n",
       "      <th>mean</th>\n",
       "      <td>50700.551873</td>\n",
       "      <td>8.0</td>\n",
       "      <td>0.953064</td>\n",
       "      <td>0.0</td>\n",
       "      <td>29788.539806</td>\n",
       "      <td>280.483858</td>\n",
       "      <td>9890.881445</td>\n",
       "      <td>60179.333218</td>\n",
       "      <td>5850.322039</td>\n",
       "      <td>1828.225637</td>\n",
       "      <td>...</td>\n",
       "      <td>203.335527</td>\n",
       "      <td>152.501646</td>\n",
       "      <td>463.243913</td>\n",
       "      <td>782.949864</td>\n",
       "      <td>2.791751e+06</td>\n",
       "      <td>1.932612</td>\n",
       "      <td>11.570914</td>\n",
       "      <td>31.842344</td>\n",
       "      <td>0.669958</td>\n",
       "      <td>1.0</td>\n",
       "    </tr>\n",
       "    <tr>\n",
       "      <th>std</th>\n",
       "      <td>4587.275725</td>\n",
       "      <td>0.0</td>\n",
       "      <td>0.211511</td>\n",
       "      <td>0.0</td>\n",
       "      <td>192.063131</td>\n",
       "      <td>5.040570</td>\n",
       "      <td>5845.288278</td>\n",
       "      <td>9847.414145</td>\n",
       "      <td>966.618309</td>\n",
       "      <td>302.068221</td>\n",
       "      <td>...</td>\n",
       "      <td>209.685897</td>\n",
       "      <td>157.264423</td>\n",
       "      <td>539.457777</td>\n",
       "      <td>901.939034</td>\n",
       "      <td>2.033801e+06</td>\n",
       "      <td>1.729901</td>\n",
       "      <td>9.662425</td>\n",
       "      <td>29.291855</td>\n",
       "      <td>0.817864</td>\n",
       "      <td>0.0</td>\n",
       "    </tr>\n",
       "    <tr>\n",
       "      <th>min</th>\n",
       "      <td>43869.000000</td>\n",
       "      <td>8.0</td>\n",
       "      <td>0.000000</td>\n",
       "      <td>0.0</td>\n",
       "      <td>29486.000000</td>\n",
       "      <td>274.000000</td>\n",
       "      <td>12.000000</td>\n",
       "      <td>46703.154800</td>\n",
       "      <td>4506.057200</td>\n",
       "      <td>1408.142900</td>\n",
       "      <td>...</td>\n",
       "      <td>4.000000</td>\n",
       "      <td>3.000000</td>\n",
       "      <td>0.856500</td>\n",
       "      <td>2.290000</td>\n",
       "      <td>8.800000e+01</td>\n",
       "      <td>0.000000</td>\n",
       "      <td>1.000000</td>\n",
       "      <td>1.000000</td>\n",
       "      <td>0.000000</td>\n",
       "      <td>1.0</td>\n",
       "    </tr>\n",
       "    <tr>\n",
       "      <th>25%</th>\n",
       "      <td>47045.000000</td>\n",
       "      <td>8.0</td>\n",
       "      <td>1.000000</td>\n",
       "      <td>0.0</td>\n",
       "      <td>29617.000000</td>\n",
       "      <td>276.000000</td>\n",
       "      <td>4623.000000</td>\n",
       "      <td>51324.194500</td>\n",
       "      <td>4963.716800</td>\n",
       "      <td>1551.161500</td>\n",
       "      <td>...</td>\n",
       "      <td>4.000000</td>\n",
       "      <td>3.000000</td>\n",
       "      <td>35.959600</td>\n",
       "      <td>59.990000</td>\n",
       "      <td>5.499601e+05</td>\n",
       "      <td>0.000000</td>\n",
       "      <td>2.000000</td>\n",
       "      <td>11.000000</td>\n",
       "      <td>0.000000</td>\n",
       "      <td>1.0</td>\n",
       "    </tr>\n",
       "    <tr>\n",
       "      <th>50%</th>\n",
       "      <td>49501.000000</td>\n",
       "      <td>8.0</td>\n",
       "      <td>1.000000</td>\n",
       "      <td>0.0</td>\n",
       "      <td>29770.000000</td>\n",
       "      <td>279.000000</td>\n",
       "      <td>10395.000000</td>\n",
       "      <td>57950.204400</td>\n",
       "      <td>5627.096400</td>\n",
       "      <td>1758.467600</td>\n",
       "      <td>...</td>\n",
       "      <td>100.000000</td>\n",
       "      <td>75.000000</td>\n",
       "      <td>204.625100</td>\n",
       "      <td>348.760000</td>\n",
       "      <td>3.310021e+06</td>\n",
       "      <td>1.000000</td>\n",
       "      <td>12.000000</td>\n",
       "      <td>26.000000</td>\n",
       "      <td>0.000000</td>\n",
       "      <td>1.0</td>\n",
       "    </tr>\n",
       "    <tr>\n",
       "      <th>75%</th>\n",
       "      <td>53514.000000</td>\n",
       "      <td>8.0</td>\n",
       "      <td>1.000000</td>\n",
       "      <td>0.0</td>\n",
       "      <td>29957.000000</td>\n",
       "      <td>283.000000</td>\n",
       "      <td>15090.000000</td>\n",
       "      <td>68404.626000</td>\n",
       "      <td>6689.021600</td>\n",
       "      <td>2090.319200</td>\n",
       "      <td>...</td>\n",
       "      <td>500.000000</td>\n",
       "      <td>375.000000</td>\n",
       "      <td>713.079800</td>\n",
       "      <td>1120.490000</td>\n",
       "      <td>4.190368e+06</td>\n",
       "      <td>4.000000</td>\n",
       "      <td>19.000000</td>\n",
       "      <td>34.000000</td>\n",
       "      <td>1.000000</td>\n",
       "      <td>1.0</td>\n",
       "    </tr>\n",
       "    <tr>\n",
       "      <th>max</th>\n",
       "      <td>63285.000000</td>\n",
       "      <td>8.0</td>\n",
       "      <td>1.000000</td>\n",
       "      <td>0.0</td>\n",
       "      <td>30117.000000</td>\n",
       "      <td>290.000000</td>\n",
       "      <td>19154.000000</td>\n",
       "      <td>80097.995000</td>\n",
       "      <td>7848.458700</td>\n",
       "      <td>2452.643300</td>\n",
       "      <td>...</td>\n",
       "      <td>500.000000</td>\n",
       "      <td>375.000000</td>\n",
       "      <td>2171.294200</td>\n",
       "      <td>3578.270000</td>\n",
       "      <td>6.156270e+06</td>\n",
       "      <td>4.000000</td>\n",
       "      <td>37.000000</td>\n",
       "      <td>128.000000</td>\n",
       "      <td>2.000000</td>\n",
       "      <td>1.0</td>\n",
       "    </tr>\n",
       "  </tbody>\n",
       "</table>\n",
       "<p>8 rows × 30 columns</p>\n",
       "</div>"
      ],
      "text/plain": [
       "       SalesOrderID  RevisionNumber       delayed  OnlineOrderFlag  \\\n",
       "count  12762.000000         12762.0  12762.000000          12762.0   \n",
       "mean   50700.551873             8.0      0.953064              0.0   \n",
       "std     4587.275725             0.0      0.211511              0.0   \n",
       "min    43869.000000             8.0      0.000000              0.0   \n",
       "25%    47045.000000             8.0      1.000000              0.0   \n",
       "50%    49501.000000             8.0      1.000000              0.0   \n",
       "75%    53514.000000             8.0      1.000000              0.0   \n",
       "max    63285.000000             8.0      1.000000              0.0   \n",
       "\n",
       "         CustomerID  SalesPersonID  CreditCardID      SubTotal        TaxAmt  \\\n",
       "count  12762.000000   12762.000000  12762.000000  12762.000000  12762.000000   \n",
       "mean   29788.539806     280.483858   9890.881445  60179.333218   5850.322039   \n",
       "std      192.063131       5.040570   5845.288278   9847.414145    966.618309   \n",
       "min    29486.000000     274.000000     12.000000  46703.154800   4506.057200   \n",
       "25%    29617.000000     276.000000   4623.000000  51324.194500   4963.716800   \n",
       "50%    29770.000000     279.000000  10395.000000  57950.204400   5627.096400   \n",
       "75%    29957.000000     283.000000  15090.000000  68404.626000   6689.021600   \n",
       "max    30117.000000     290.000000  19154.000000  80097.995000   7848.458700   \n",
       "\n",
       "            Freight   ...     SafetyStockLevel  ReorderPoint  StandardCost  \\\n",
       "count  12762.000000   ...         12762.000000  12762.000000  12762.000000   \n",
       "mean    1828.225637   ...           203.335527    152.501646    463.243913   \n",
       "std      302.068221   ...           209.685897    157.264423    539.457777   \n",
       "min     1408.142900   ...             4.000000      3.000000      0.856500   \n",
       "25%     1551.161500   ...             4.000000      3.000000     35.959600   \n",
       "50%     1758.467600   ...           100.000000     75.000000    204.625100   \n",
       "75%     2090.319200   ...           500.000000    375.000000    713.079800   \n",
       "max     2452.643300   ...           500.000000    375.000000   2171.294200   \n",
       "\n",
       "          ListPrice       weights  DaysToManufacture  ProductSubcategoryID  \\\n",
       "count  12762.000000  8.246000e+03       12762.000000          12762.000000   \n",
       "mean     782.949864  2.791751e+06           1.932612             11.570914   \n",
       "std      901.939034  2.033801e+06           1.729901              9.662425   \n",
       "min        2.290000  8.800000e+01           0.000000              1.000000   \n",
       "25%       59.990000  5.499601e+05           0.000000              2.000000   \n",
       "50%      348.760000  3.310021e+06           1.000000             12.000000   \n",
       "75%     1120.490000  4.190368e+06           4.000000             19.000000   \n",
       "max     3578.270000  6.156270e+06           4.000000             37.000000   \n",
       "\n",
       "       ProductModelID  EmailPromotion  cluster  \n",
       "count    12762.000000    12762.000000  12762.0  \n",
       "mean        31.842344        0.669958      1.0  \n",
       "std         29.291855        0.817864      0.0  \n",
       "min          1.000000        0.000000      1.0  \n",
       "25%         11.000000        0.000000      1.0  \n",
       "50%         26.000000        0.000000      1.0  \n",
       "75%         34.000000        1.000000      1.0  \n",
       "max        128.000000        2.000000      1.0  \n",
       "\n",
       "[8 rows x 30 columns]"
      ]
     },
     "execution_count": 210,
     "metadata": {},
     "output_type": "execute_result"
    }
   ],
   "source": [
    "c2.describe()"
   ]
  },
  {
   "cell_type": "code",
   "execution_count": 211,
   "metadata": {
    "collapsed": false
   },
   "outputs": [
    {
     "data": {
      "text/html": [
       "<div>\n",
       "<table border=\"1\" class=\"dataframe\">\n",
       "  <thead>\n",
       "    <tr style=\"text-align: right;\">\n",
       "      <th></th>\n",
       "      <th>SalesOrderID</th>\n",
       "      <th>RevisionNumber</th>\n",
       "      <th>delayed</th>\n",
       "      <th>OnlineOrderFlag</th>\n",
       "      <th>CustomerID</th>\n",
       "      <th>SalesPersonID</th>\n",
       "      <th>CreditCardID</th>\n",
       "      <th>SubTotal</th>\n",
       "      <th>TaxAmt</th>\n",
       "      <th>Freight</th>\n",
       "      <th>...</th>\n",
       "      <th>SafetyStockLevel</th>\n",
       "      <th>ReorderPoint</th>\n",
       "      <th>StandardCost</th>\n",
       "      <th>ListPrice</th>\n",
       "      <th>weights</th>\n",
       "      <th>DaysToManufacture</th>\n",
       "      <th>ProductSubcategoryID</th>\n",
       "      <th>ProductModelID</th>\n",
       "      <th>EmailPromotion</th>\n",
       "      <th>cluster</th>\n",
       "    </tr>\n",
       "  </thead>\n",
       "  <tbody>\n",
       "    <tr>\n",
       "      <th>count</th>\n",
       "      <td>5801.000000</td>\n",
       "      <td>5801.0</td>\n",
       "      <td>5801.000000</td>\n",
       "      <td>5801.0</td>\n",
       "      <td>5801.000000</td>\n",
       "      <td>5801.000000</td>\n",
       "      <td>5801.000000</td>\n",
       "      <td>5801.000000</td>\n",
       "      <td>5801.000000</td>\n",
       "      <td>5801.000000</td>\n",
       "      <td>...</td>\n",
       "      <td>5801.000000</td>\n",
       "      <td>5801.000000</td>\n",
       "      <td>5801.000000</td>\n",
       "      <td>5801.000000</td>\n",
       "      <td>3.966000e+03</td>\n",
       "      <td>5801.000000</td>\n",
       "      <td>5801.000000</td>\n",
       "      <td>5801.000000</td>\n",
       "      <td>5801.000000</td>\n",
       "      <td>5801.0</td>\n",
       "    </tr>\n",
       "    <tr>\n",
       "      <th>mean</th>\n",
       "      <td>50155.324082</td>\n",
       "      <td>8.0</td>\n",
       "      <td>0.963282</td>\n",
       "      <td>0.0</td>\n",
       "      <td>29807.326495</td>\n",
       "      <td>281.612998</td>\n",
       "      <td>10140.022582</td>\n",
       "      <td>100471.604473</td>\n",
       "      <td>9853.658224</td>\n",
       "      <td>3079.268199</td>\n",
       "      <td>...</td>\n",
       "      <td>212.612308</td>\n",
       "      <td>159.459231</td>\n",
       "      <td>482.550860</td>\n",
       "      <td>810.139942</td>\n",
       "      <td>2.663534e+06</td>\n",
       "      <td>1.991208</td>\n",
       "      <td>11.318566</td>\n",
       "      <td>30.375453</td>\n",
       "      <td>0.722289</td>\n",
       "      <td>2.0</td>\n",
       "    </tr>\n",
       "    <tr>\n",
       "      <th>std</th>\n",
       "      <td>3887.051896</td>\n",
       "      <td>0.0</td>\n",
       "      <td>0.188084</td>\n",
       "      <td>0.0</td>\n",
       "      <td>186.065806</td>\n",
       "      <td>5.664350</td>\n",
       "      <td>5964.210912</td>\n",
       "      <td>17183.390248</td>\n",
       "      <td>1862.067414</td>\n",
       "      <td>581.896071</td>\n",
       "      <td>...</td>\n",
       "      <td>210.723339</td>\n",
       "      <td>158.042504</td>\n",
       "      <td>534.999613</td>\n",
       "      <td>890.410297</td>\n",
       "      <td>1.992888e+06</td>\n",
       "      <td>1.716178</td>\n",
       "      <td>9.519773</td>\n",
       "      <td>27.405915</td>\n",
       "      <td>0.821018</td>\n",
       "      <td>0.0</td>\n",
       "    </tr>\n",
       "    <tr>\n",
       "      <th>min</th>\n",
       "      <td>43875.000000</td>\n",
       "      <td>8.0</td>\n",
       "      <td>0.000000</td>\n",
       "      <td>0.0</td>\n",
       "      <td>29497.000000</td>\n",
       "      <td>274.000000</td>\n",
       "      <td>204.000000</td>\n",
       "      <td>80512.221900</td>\n",
       "      <td>7743.503700</td>\n",
       "      <td>2419.844900</td>\n",
       "      <td>...</td>\n",
       "      <td>4.000000</td>\n",
       "      <td>3.000000</td>\n",
       "      <td>0.856500</td>\n",
       "      <td>2.290000</td>\n",
       "      <td>8.800000e+01</td>\n",
       "      <td>0.000000</td>\n",
       "      <td>1.000000</td>\n",
       "      <td>1.000000</td>\n",
       "      <td>0.000000</td>\n",
       "      <td>2.0</td>\n",
       "    </tr>\n",
       "    <tr>\n",
       "      <th>25%</th>\n",
       "      <td>47365.000000</td>\n",
       "      <td>8.0</td>\n",
       "      <td>1.000000</td>\n",
       "      <td>0.0</td>\n",
       "      <td>29641.000000</td>\n",
       "      <td>276.000000</td>\n",
       "      <td>4830.000000</td>\n",
       "      <td>88446.796800</td>\n",
       "      <td>8581.177500</td>\n",
       "      <td>2681.618000</td>\n",
       "      <td>...</td>\n",
       "      <td>4.000000</td>\n",
       "      <td>3.000000</td>\n",
       "      <td>38.492300</td>\n",
       "      <td>69.990000</td>\n",
       "      <td>5.089183e+05</td>\n",
       "      <td>0.000000</td>\n",
       "      <td>2.000000</td>\n",
       "      <td>11.000000</td>\n",
       "      <td>0.000000</td>\n",
       "      <td>2.0</td>\n",
       "    </tr>\n",
       "    <tr>\n",
       "      <th>50%</th>\n",
       "      <td>49837.000000</td>\n",
       "      <td>8.0</td>\n",
       "      <td>1.000000</td>\n",
       "      <td>0.0</td>\n",
       "      <td>29722.000000</td>\n",
       "      <td>281.000000</td>\n",
       "      <td>10832.000000</td>\n",
       "      <td>96577.143000</td>\n",
       "      <td>9373.737700</td>\n",
       "      <td>2929.293000</td>\n",
       "      <td>...</td>\n",
       "      <td>100.000000</td>\n",
       "      <td>75.000000</td>\n",
       "      <td>308.217900</td>\n",
       "      <td>539.990000</td>\n",
       "      <td>3.164323e+06</td>\n",
       "      <td>1.000000</td>\n",
       "      <td>12.000000</td>\n",
       "      <td>26.000000</td>\n",
       "      <td>0.000000</td>\n",
       "      <td>2.0</td>\n",
       "    </tr>\n",
       "    <tr>\n",
       "      <th>75%</th>\n",
       "      <td>51783.000000</td>\n",
       "      <td>8.0</td>\n",
       "      <td>1.000000</td>\n",
       "      <td>0.0</td>\n",
       "      <td>29994.000000</td>\n",
       "      <td>289.000000</td>\n",
       "      <td>14928.000000</td>\n",
       "      <td>104958.806800</td>\n",
       "      <td>10427.250500</td>\n",
       "      <td>3258.515800</td>\n",
       "      <td>...</td>\n",
       "      <td>500.000000</td>\n",
       "      <td>375.000000</td>\n",
       "      <td>713.079800</td>\n",
       "      <td>1120.490000</td>\n",
       "      <td>4.083659e+06</td>\n",
       "      <td>4.000000</td>\n",
       "      <td>18.000000</td>\n",
       "      <td>33.000000</td>\n",
       "      <td>1.000000</td>\n",
       "      <td>2.0</td>\n",
       "    </tr>\n",
       "    <tr>\n",
       "      <th>max</th>\n",
       "      <td>63291.000000</td>\n",
       "      <td>8.0</td>\n",
       "      <td>1.000000</td>\n",
       "      <td>0.0</td>\n",
       "      <td>30117.000000</td>\n",
       "      <td>290.000000</td>\n",
       "      <td>18930.000000</td>\n",
       "      <td>163930.394300</td>\n",
       "      <td>17948.518600</td>\n",
       "      <td>5608.912100</td>\n",
       "      <td>...</td>\n",
       "      <td>500.000000</td>\n",
       "      <td>375.000000</td>\n",
       "      <td>1912.154400</td>\n",
       "      <td>3399.990000</td>\n",
       "      <td>6.156270e+06</td>\n",
       "      <td>4.000000</td>\n",
       "      <td>37.000000</td>\n",
       "      <td>128.000000</td>\n",
       "      <td>2.000000</td>\n",
       "      <td>2.0</td>\n",
       "    </tr>\n",
       "  </tbody>\n",
       "</table>\n",
       "<p>8 rows × 30 columns</p>\n",
       "</div>"
      ],
      "text/plain": [
       "       SalesOrderID  RevisionNumber      delayed  OnlineOrderFlag  \\\n",
       "count   5801.000000          5801.0  5801.000000           5801.0   \n",
       "mean   50155.324082             8.0     0.963282              0.0   \n",
       "std     3887.051896             0.0     0.188084              0.0   \n",
       "min    43875.000000             8.0     0.000000              0.0   \n",
       "25%    47365.000000             8.0     1.000000              0.0   \n",
       "50%    49837.000000             8.0     1.000000              0.0   \n",
       "75%    51783.000000             8.0     1.000000              0.0   \n",
       "max    63291.000000             8.0     1.000000              0.0   \n",
       "\n",
       "         CustomerID  SalesPersonID  CreditCardID       SubTotal        TaxAmt  \\\n",
       "count   5801.000000    5801.000000   5801.000000    5801.000000   5801.000000   \n",
       "mean   29807.326495     281.612998  10140.022582  100471.604473   9853.658224   \n",
       "std      186.065806       5.664350   5964.210912   17183.390248   1862.067414   \n",
       "min    29497.000000     274.000000    204.000000   80512.221900   7743.503700   \n",
       "25%    29641.000000     276.000000   4830.000000   88446.796800   8581.177500   \n",
       "50%    29722.000000     281.000000  10832.000000   96577.143000   9373.737700   \n",
       "75%    29994.000000     289.000000  14928.000000  104958.806800  10427.250500   \n",
       "max    30117.000000     290.000000  18930.000000  163930.394300  17948.518600   \n",
       "\n",
       "           Freight   ...     SafetyStockLevel  ReorderPoint  StandardCost  \\\n",
       "count  5801.000000   ...          5801.000000   5801.000000   5801.000000   \n",
       "mean   3079.268199   ...           212.612308    159.459231    482.550860   \n",
       "std     581.896071   ...           210.723339    158.042504    534.999613   \n",
       "min    2419.844900   ...             4.000000      3.000000      0.856500   \n",
       "25%    2681.618000   ...             4.000000      3.000000     38.492300   \n",
       "50%    2929.293000   ...           100.000000     75.000000    308.217900   \n",
       "75%    3258.515800   ...           500.000000    375.000000    713.079800   \n",
       "max    5608.912100   ...           500.000000    375.000000   1912.154400   \n",
       "\n",
       "         ListPrice       weights  DaysToManufacture  ProductSubcategoryID  \\\n",
       "count  5801.000000  3.966000e+03        5801.000000           5801.000000   \n",
       "mean    810.139942  2.663534e+06           1.991208             11.318566   \n",
       "std     890.410297  1.992888e+06           1.716178              9.519773   \n",
       "min       2.290000  8.800000e+01           0.000000              1.000000   \n",
       "25%      69.990000  5.089183e+05           0.000000              2.000000   \n",
       "50%     539.990000  3.164323e+06           1.000000             12.000000   \n",
       "75%    1120.490000  4.083659e+06           4.000000             18.000000   \n",
       "max    3399.990000  6.156270e+06           4.000000             37.000000   \n",
       "\n",
       "       ProductModelID  EmailPromotion  cluster  \n",
       "count     5801.000000     5801.000000   5801.0  \n",
       "mean        30.375453        0.722289      2.0  \n",
       "std         27.405915        0.821018      0.0  \n",
       "min          1.000000        0.000000      2.0  \n",
       "25%         11.000000        0.000000      2.0  \n",
       "50%         26.000000        0.000000      2.0  \n",
       "75%         33.000000        1.000000      2.0  \n",
       "max        128.000000        2.000000      2.0  \n",
       "\n",
       "[8 rows x 30 columns]"
      ]
     },
     "execution_count": 211,
     "metadata": {},
     "output_type": "execute_result"
    }
   ],
   "source": [
    "c3.describe()"
   ]
  },
  {
   "cell_type": "code",
   "execution_count": 212,
   "metadata": {
    "collapsed": false
   },
   "outputs": [
    {
     "data": {
      "text/html": [
       "<div>\n",
       "<table border=\"1\" class=\"dataframe\">\n",
       "  <thead>\n",
       "    <tr style=\"text-align: right;\">\n",
       "      <th></th>\n",
       "      <th>SalesOrderID</th>\n",
       "      <th>RevisionNumber</th>\n",
       "      <th>delayed</th>\n",
       "      <th>OnlineOrderFlag</th>\n",
       "      <th>CustomerID</th>\n",
       "      <th>SalesPersonID</th>\n",
       "      <th>CreditCardID</th>\n",
       "      <th>SubTotal</th>\n",
       "      <th>TaxAmt</th>\n",
       "      <th>Freight</th>\n",
       "      <th>...</th>\n",
       "      <th>SafetyStockLevel</th>\n",
       "      <th>ReorderPoint</th>\n",
       "      <th>StandardCost</th>\n",
       "      <th>ListPrice</th>\n",
       "      <th>weights</th>\n",
       "      <th>DaysToManufacture</th>\n",
       "      <th>ProductSubcategoryID</th>\n",
       "      <th>ProductModelID</th>\n",
       "      <th>EmailPromotion</th>\n",
       "      <th>cluster</th>\n",
       "    </tr>\n",
       "  </thead>\n",
       "  <tbody>\n",
       "    <tr>\n",
       "      <th>count</th>\n",
       "      <td>22451.000000</td>\n",
       "      <td>22451.0</td>\n",
       "      <td>22451.000000</td>\n",
       "      <td>22451.0</td>\n",
       "      <td>22451.000000</td>\n",
       "      <td>22451.000000</td>\n",
       "      <td>22326.000000</td>\n",
       "      <td>22451.000000</td>\n",
       "      <td>22451.000000</td>\n",
       "      <td>22451.000000</td>\n",
       "      <td>...</td>\n",
       "      <td>22451.000000</td>\n",
       "      <td>22451.000000</td>\n",
       "      <td>22451.000000</td>\n",
       "      <td>22451.000000</td>\n",
       "      <td>1.453200e+04</td>\n",
       "      <td>22451.000000</td>\n",
       "      <td>22451.000000</td>\n",
       "      <td>22451.000000</td>\n",
       "      <td>22326.000000</td>\n",
       "      <td>22451.0</td>\n",
       "    </tr>\n",
       "    <tr>\n",
       "      <th>mean</th>\n",
       "      <td>51394.585275</td>\n",
       "      <td>8.0</td>\n",
       "      <td>0.919157</td>\n",
       "      <td>0.0</td>\n",
       "      <td>29820.273128</td>\n",
       "      <td>280.549998</td>\n",
       "      <td>9875.382111</td>\n",
       "      <td>33312.428452</td>\n",
       "      <td>3236.657143</td>\n",
       "      <td>1011.455360</td>\n",
       "      <td>...</td>\n",
       "      <td>198.577703</td>\n",
       "      <td>148.933277</td>\n",
       "      <td>479.042688</td>\n",
       "      <td>822.097658</td>\n",
       "      <td>3.043691e+06</td>\n",
       "      <td>2.026725</td>\n",
       "      <td>11.005390</td>\n",
       "      <td>31.582335</td>\n",
       "      <td>0.601048</td>\n",
       "      <td>3.0</td>\n",
       "    </tr>\n",
       "    <tr>\n",
       "      <th>std</th>\n",
       "      <td>5375.091345</td>\n",
       "      <td>0.0</td>\n",
       "      <td>0.272600</td>\n",
       "      <td>0.0</td>\n",
       "      <td>186.836629</td>\n",
       "      <td>4.806448</td>\n",
       "      <td>5663.872779</td>\n",
       "      <td>7673.269488</td>\n",
       "      <td>774.278353</td>\n",
       "      <td>241.961985</td>\n",
       "      <td>...</td>\n",
       "      <td>206.098951</td>\n",
       "      <td>154.574213</td>\n",
       "      <td>554.697804</td>\n",
       "      <td>943.673255</td>\n",
       "      <td>2.056565e+06</td>\n",
       "      <td>1.742435</td>\n",
       "      <td>9.651671</td>\n",
       "      <td>29.058022</td>\n",
       "      <td>0.762196</td>\n",
       "      <td>0.0</td>\n",
       "    </tr>\n",
       "    <tr>\n",
       "      <th>min</th>\n",
       "      <td>43659.000000</td>\n",
       "      <td>8.0</td>\n",
       "      <td>0.000000</td>\n",
       "      <td>0.0</td>\n",
       "      <td>29484.000000</td>\n",
       "      <td>274.000000</td>\n",
       "      <td>8.000000</td>\n",
       "      <td>17671.844700</td>\n",
       "      <td>1719.971900</td>\n",
       "      <td>537.491200</td>\n",
       "      <td>...</td>\n",
       "      <td>4.000000</td>\n",
       "      <td>3.000000</td>\n",
       "      <td>0.856500</td>\n",
       "      <td>2.290000</td>\n",
       "      <td>8.800000e+01</td>\n",
       "      <td>0.000000</td>\n",
       "      <td>1.000000</td>\n",
       "      <td>1.000000</td>\n",
       "      <td>0.000000</td>\n",
       "      <td>3.0</td>\n",
       "    </tr>\n",
       "    <tr>\n",
       "      <th>25%</th>\n",
       "      <td>47396.000000</td>\n",
       "      <td>8.0</td>\n",
       "      <td>1.000000</td>\n",
       "      <td>0.0</td>\n",
       "      <td>29667.000000</td>\n",
       "      <td>277.000000</td>\n",
       "      <td>5215.000000</td>\n",
       "      <td>26985.262500</td>\n",
       "      <td>2642.950100</td>\n",
       "      <td>825.921900</td>\n",
       "      <td>...</td>\n",
       "      <td>4.000000</td>\n",
       "      <td>3.000000</td>\n",
       "      <td>35.959600</td>\n",
       "      <td>61.920000</td>\n",
       "      <td>5.745852e+05</td>\n",
       "      <td>0.000000</td>\n",
       "      <td>2.000000</td>\n",
       "      <td>12.000000</td>\n",
       "      <td>0.000000</td>\n",
       "      <td>3.0</td>\n",
       "    </tr>\n",
       "    <tr>\n",
       "      <th>50%</th>\n",
       "      <td>50217.000000</td>\n",
       "      <td>8.0</td>\n",
       "      <td>1.000000</td>\n",
       "      <td>0.0</td>\n",
       "      <td>29827.000000</td>\n",
       "      <td>279.000000</td>\n",
       "      <td>10146.000000</td>\n",
       "      <td>33608.064000</td>\n",
       "      <td>3240.939700</td>\n",
       "      <td>1012.793600</td>\n",
       "      <td>...</td>\n",
       "      <td>100.000000</td>\n",
       "      <td>75.000000</td>\n",
       "      <td>204.625100</td>\n",
       "      <td>404.990000</td>\n",
       "      <td>3.720439e+06</td>\n",
       "      <td>1.000000</td>\n",
       "      <td>12.000000</td>\n",
       "      <td>26.000000</td>\n",
       "      <td>0.000000</td>\n",
       "      <td>3.0</td>\n",
       "    </tr>\n",
       "    <tr>\n",
       "      <th>75%</th>\n",
       "      <td>55259.000000</td>\n",
       "      <td>8.0</td>\n",
       "      <td>1.000000</td>\n",
       "      <td>0.0</td>\n",
       "      <td>29956.000000</td>\n",
       "      <td>283.000000</td>\n",
       "      <td>14814.000000</td>\n",
       "      <td>39731.712000</td>\n",
       "      <td>3833.431000</td>\n",
       "      <td>1197.947200</td>\n",
       "      <td>...</td>\n",
       "      <td>500.000000</td>\n",
       "      <td>375.000000</td>\n",
       "      <td>739.041000</td>\n",
       "      <td>1214.850000</td>\n",
       "      <td>4.877818e+06</td>\n",
       "      <td>4.000000</td>\n",
       "      <td>19.000000</td>\n",
       "      <td>34.000000</td>\n",
       "      <td>1.000000</td>\n",
       "      <td>3.0</td>\n",
       "    </tr>\n",
       "    <tr>\n",
       "      <th>max</th>\n",
       "      <td>63293.000000</td>\n",
       "      <td>8.0</td>\n",
       "      <td>1.000000</td>\n",
       "      <td>0.0</td>\n",
       "      <td>30118.000000</td>\n",
       "      <td>290.000000</td>\n",
       "      <td>19181.000000</td>\n",
       "      <td>46694.236300</td>\n",
       "      <td>8050.153900</td>\n",
       "      <td>2515.673100</td>\n",
       "      <td>...</td>\n",
       "      <td>500.000000</td>\n",
       "      <td>375.000000</td>\n",
       "      <td>2171.294200</td>\n",
       "      <td>3578.270000</td>\n",
       "      <td>6.156270e+06</td>\n",
       "      <td>4.000000</td>\n",
       "      <td>37.000000</td>\n",
       "      <td>128.000000</td>\n",
       "      <td>2.000000</td>\n",
       "      <td>3.0</td>\n",
       "    </tr>\n",
       "  </tbody>\n",
       "</table>\n",
       "<p>8 rows × 30 columns</p>\n",
       "</div>"
      ],
      "text/plain": [
       "       SalesOrderID  RevisionNumber       delayed  OnlineOrderFlag  \\\n",
       "count  22451.000000         22451.0  22451.000000          22451.0   \n",
       "mean   51394.585275             8.0      0.919157              0.0   \n",
       "std     5375.091345             0.0      0.272600              0.0   \n",
       "min    43659.000000             8.0      0.000000              0.0   \n",
       "25%    47396.000000             8.0      1.000000              0.0   \n",
       "50%    50217.000000             8.0      1.000000              0.0   \n",
       "75%    55259.000000             8.0      1.000000              0.0   \n",
       "max    63293.000000             8.0      1.000000              0.0   \n",
       "\n",
       "         CustomerID  SalesPersonID  CreditCardID      SubTotal        TaxAmt  \\\n",
       "count  22451.000000   22451.000000  22326.000000  22451.000000  22451.000000   \n",
       "mean   29820.273128     280.549998   9875.382111  33312.428452   3236.657143   \n",
       "std      186.836629       4.806448   5663.872779   7673.269488    774.278353   \n",
       "min    29484.000000     274.000000      8.000000  17671.844700   1719.971900   \n",
       "25%    29667.000000     277.000000   5215.000000  26985.262500   2642.950100   \n",
       "50%    29827.000000     279.000000  10146.000000  33608.064000   3240.939700   \n",
       "75%    29956.000000     283.000000  14814.000000  39731.712000   3833.431000   \n",
       "max    30118.000000     290.000000  19181.000000  46694.236300   8050.153900   \n",
       "\n",
       "            Freight   ...     SafetyStockLevel  ReorderPoint  StandardCost  \\\n",
       "count  22451.000000   ...         22451.000000  22451.000000  22451.000000   \n",
       "mean    1011.455360   ...           198.577703    148.933277    479.042688   \n",
       "std      241.961985   ...           206.098951    154.574213    554.697804   \n",
       "min      537.491200   ...             4.000000      3.000000      0.856500   \n",
       "25%      825.921900   ...             4.000000      3.000000     35.959600   \n",
       "50%     1012.793600   ...           100.000000     75.000000    204.625100   \n",
       "75%     1197.947200   ...           500.000000    375.000000    739.041000   \n",
       "max     2515.673100   ...           500.000000    375.000000   2171.294200   \n",
       "\n",
       "          ListPrice       weights  DaysToManufacture  ProductSubcategoryID  \\\n",
       "count  22451.000000  1.453200e+04       22451.000000          22451.000000   \n",
       "mean     822.097658  3.043691e+06           2.026725             11.005390   \n",
       "std      943.673255  2.056565e+06           1.742435              9.651671   \n",
       "min        2.290000  8.800000e+01           0.000000              1.000000   \n",
       "25%       61.920000  5.745852e+05           0.000000              2.000000   \n",
       "50%      404.990000  3.720439e+06           1.000000             12.000000   \n",
       "75%     1214.850000  4.877818e+06           4.000000             19.000000   \n",
       "max     3578.270000  6.156270e+06           4.000000             37.000000   \n",
       "\n",
       "       ProductModelID  EmailPromotion  cluster  \n",
       "count    22451.000000    22326.000000  22451.0  \n",
       "mean        31.582335        0.601048      3.0  \n",
       "std         29.058022        0.762196      0.0  \n",
       "min          1.000000        0.000000      3.0  \n",
       "25%         12.000000        0.000000      3.0  \n",
       "50%         26.000000        0.000000      3.0  \n",
       "75%         34.000000        1.000000      3.0  \n",
       "max        128.000000        2.000000      3.0  \n",
       "\n",
       "[8 rows x 30 columns]"
      ]
     },
     "execution_count": 212,
     "metadata": {},
     "output_type": "execute_result"
    }
   ],
   "source": [
    "c4.describe()"
   ]
  },
  {
   "cell_type": "code",
   "execution_count": 213,
   "metadata": {
    "collapsed": false
   },
   "outputs": [
    {
     "data": {
      "text/plain": [
       "0    0.618041\n",
       "1    0.381959\n",
       "Name: delayed, dtype: float64"
      ]
     },
     "execution_count": 213,
     "metadata": {},
     "output_type": "execute_result"
    }
   ],
   "source": [
    "c1.delayed.value_counts(normalize=True)"
   ]
  },
  {
   "cell_type": "code",
   "execution_count": 180,
   "metadata": {
    "collapsed": false
   },
   "outputs": [
    {
     "data": {
      "text/plain": [
       "1    0.919157\n",
       "0    0.080843\n",
       "Name: delayed, dtype: float64"
      ]
     },
     "execution_count": 180,
     "metadata": {},
     "output_type": "execute_result"
    }
   ],
   "source": [
    "c2.delayed.value_counts(normalize=True)"
   ]
  },
  {
   "cell_type": "code",
   "execution_count": 181,
   "metadata": {
    "collapsed": false
   },
   "outputs": [
    {
     "data": {
      "text/plain": [
       "1    0.963282\n",
       "0    0.036718\n",
       "Name: delayed, dtype: float64"
      ]
     },
     "execution_count": 181,
     "metadata": {},
     "output_type": "execute_result"
    }
   ],
   "source": [
    "c3.delayed.value_counts(normalize=True)"
   ]
  },
  {
   "cell_type": "code",
   "execution_count": 216,
   "metadata": {
    "collapsed": false
   },
   "outputs": [
    {
     "name": "stdout",
     "output_type": "stream",
     "text": [
      "Majority of the products which are delayed are in cluster 1,2,3\n"
     ]
    }
   ],
   "source": [
    "c4.delayed.value_counts(normalize=True)\n",
    "print (\"Majority of the products which are delayed are in cluster 1,2,3\")"
   ]
  },
  {
   "cell_type": "code",
   "execution_count": 231,
   "metadata": {
    "collapsed": false
   },
   "outputs": [
    {
     "data": {
      "text/plain": [
       "1.3740000000000001"
      ]
     },
     "execution_count": 231,
     "metadata": {},
     "output_type": "execute_result"
    }
   ],
   "source": [
    "c1.SubTotal.min()"
   ]
  },
  {
   "cell_type": "code",
   "execution_count": 232,
   "metadata": {
    "collapsed": false
   },
   "outputs": [
    {
     "data": {
      "text/plain": [
       "17871.445199999998"
      ]
     },
     "execution_count": 232,
     "metadata": {},
     "output_type": "execute_result"
    }
   ],
   "source": [
    "c1.SubTotal.max()"
   ]
  },
  {
   "cell_type": "code",
   "execution_count": 233,
   "metadata": {
    "collapsed": false
   },
   "outputs": [
    {
     "data": {
      "text/plain": [
       "707"
      ]
     },
     "execution_count": 233,
     "metadata": {},
     "output_type": "execute_result"
    }
   ],
   "source": [
    "c1.ProductID.min()"
   ]
  },
  {
   "cell_type": "code",
   "execution_count": 234,
   "metadata": {
    "collapsed": false
   },
   "outputs": [
    {
     "data": {
      "text/plain": [
       "707"
      ]
     },
     "execution_count": 234,
     "metadata": {},
     "output_type": "execute_result"
    }
   ],
   "source": [
    "c2.ProductID.min()"
   ]
  },
  {
   "cell_type": "code",
   "execution_count": 235,
   "metadata": {
    "collapsed": false
   },
   "outputs": [
    {
     "data": {
      "text/plain": [
       "2171.2941999999998"
      ]
     },
     "execution_count": 235,
     "metadata": {},
     "output_type": "execute_result"
    }
   ],
   "source": [
    "c1.StandardCost.max()"
   ]
  },
  {
   "cell_type": "code",
   "execution_count": 236,
   "metadata": {
    "collapsed": false
   },
   "outputs": [
    {
     "data": {
      "text/plain": [
       "0.85650000000000004"
      ]
     },
     "execution_count": 236,
     "metadata": {},
     "output_type": "execute_result"
    }
   ],
   "source": [
    "c1.StandardCost.min()"
   ]
  },
  {
   "cell_type": "code",
   "execution_count": 239,
   "metadata": {
    "collapsed": false
   },
   "outputs": [
    {
     "data": {
      "text/plain": [
       "S     14509\n",
       "R     14090\n",
       "M     11758\n",
       "T      2876\n",
       "Name: ProductLine, dtype: int64"
      ]
     },
     "execution_count": 239,
     "metadata": {},
     "output_type": "execute_result"
    }
   ],
   "source": [
    "c1.ProductLine.value_counts()\n",
    "#Most of thr products are shipped through Road and Standard shipping in cluster0"
   ]
  },
  {
   "cell_type": "code",
   "execution_count": 243,
   "metadata": {
    "collapsed": false
   },
   "outputs": [
    {
     "data": {
      "text/plain": [
       "R     4703\n",
       "S     3194\n",
       "M     3146\n",
       "T     1229\n",
       "Name: ProductLine, dtype: int64"
      ]
     },
     "execution_count": 243,
     "metadata": {},
     "output_type": "execute_result"
    }
   ],
   "source": [
    "c2.ProductLine.value_counts()\n",
    "# most of the product are shipped on road and almost equal no.of products through mountain and standard in cluster 1"
   ]
  },
  {
   "cell_type": "markdown",
   "metadata": {},
   "source": []
  },
  {
   "cell_type": "code",
   "execution_count": null,
   "metadata": {
    "collapsed": false
   },
   "outputs": [],
   "source": [
    "\n"
   ]
  },
  {
   "cell_type": "code",
   "execution_count": 245,
   "metadata": {
    "collapsed": false
   },
   "outputs": [
    {
     "data": {
      "text/plain": [
       "R     2545\n",
       "S     1339\n",
       "M     1234\n",
       "T      537\n",
       "Name: ProductLine, dtype: int64"
      ]
     },
     "execution_count": 245,
     "metadata": {},
     "output_type": "execute_result"
    }
   ],
   "source": [
    "c3.ProductLine.value_counts()\n",
    "#Majority  of the products are shipped through road in cluster 2"
   ]
  },
  {
   "cell_type": "code",
   "execution_count": 247,
   "metadata": {
    "collapsed": false
   },
   "outputs": [
    {
     "data": {
      "text/plain": [
       "M     7907\n",
       "R     6816\n",
       "S     5135\n",
       "T     1754\n",
       "Name: ProductLine, dtype: int64"
      ]
     },
     "execution_count": 247,
     "metadata": {},
     "output_type": "execute_result"
    }
   ],
   "source": [
    "c4.ProductLine.value_counts()\n",
    "#majority of the products are shipped on mountain in cluster 3"
   ]
  },
  {
   "cell_type": "code",
   "execution_count": 253,
   "metadata": {
    "collapsed": false
   },
   "outputs": [
    {
     "data": {
      "text/plain": [
       "0    0.624488\n",
       "1    0.375512\n",
       "Name: MakeFlag, dtype: float64"
      ]
     },
     "execution_count": 253,
     "metadata": {},
     "output_type": "execute_result"
    }
   ],
   "source": [
    "c1.MakeFlag.value_counts(normalize=True)\n",
    "# Majority of the products are purchased in cluster 0"
   ]
  },
  {
   "cell_type": "code",
   "execution_count": 250,
   "metadata": {
    "collapsed": false
   },
   "outputs": [
    {
     "data": {
      "text/plain": [
       "1    8689\n",
       "0    4073\n",
       "Name: MakeFlag, dtype: int64"
      ]
     },
     "execution_count": 250,
     "metadata": {},
     "output_type": "execute_result"
    }
   ],
   "source": [
    "c2.MakeFlag.value_counts()\n",
    "# Majority of the products are manufactured in-house in cluster 1"
   ]
  },
  {
   "cell_type": "code",
   "execution_count": 251,
   "metadata": {
    "collapsed": false
   },
   "outputs": [
    {
     "data": {
      "text/plain": [
       "1    4130\n",
       "0    1671\n",
       "Name: MakeFlag, dtype: int64"
      ]
     },
     "execution_count": 251,
     "metadata": {},
     "output_type": "execute_result"
    }
   ],
   "source": [
    "c3.MakeFlag.value_counts()\n",
    "# Majority of the products are manufactured in-house in cluster 2"
   ]
  },
  {
   "cell_type": "code",
   "execution_count": 252,
   "metadata": {
    "collapsed": false
   },
   "outputs": [
    {
     "data": {
      "text/plain": [
       "1    15497\n",
       "0     6954\n",
       "Name: MakeFlag, dtype: int64"
      ]
     },
     "execution_count": 252,
     "metadata": {},
     "output_type": "execute_result"
    }
   ],
   "source": [
    "c4.MakeFlag.value_counts()\n",
    "# Majority of the products are manufacuted in-house in cluster 3"
   ]
  },
  {
   "cell_type": "code",
   "execution_count": 255,
   "metadata": {
    "collapsed": false
   },
   "outputs": [
    {
     "data": {
      "text/plain": [
       "4      0.446494\n",
       "100    0.329765\n",
       "500    0.223742\n",
       "Name: SafetyStockLevel, dtype: float64"
      ]
     },
     "execution_count": 255,
     "metadata": {},
     "output_type": "execute_result"
    }
   ],
   "source": [
    "c1.SafetyStockLevel.value_counts(normalize=True)\n",
    "# majority of the projects in cluster 0 doesn't have minimum inventory quantity"
   ]
  },
  {
   "cell_type": "code",
   "execution_count": 257,
   "metadata": {
    "collapsed": false
   },
   "outputs": [
    {
     "data": {
      "text/plain": [
       "100    0.395079\n",
       "500    0.325419\n",
       "4      0.279502\n",
       "Name: SafetyStockLevel, dtype: float64"
      ]
     },
     "execution_count": 257,
     "metadata": {},
     "output_type": "execute_result"
    }
   ],
   "source": [
    "c2.SafetyStockLevel.value_counts(normalize=True)\n",
    "#Majority of the products in cluster 1 are costly and have minimum inventory  quantity if 100"
   ]
  },
  {
   "cell_type": "code",
   "execution_count": 258,
   "metadata": {
    "collapsed": false
   },
   "outputs": [
    {
     "data": {
      "text/plain": [
       "100    0.405103\n",
       "500    0.342182\n",
       "4      0.252715\n",
       "Name: SafetyStockLevel, dtype: float64"
      ]
     },
     "execution_count": 258,
     "metadata": {},
     "output_type": "execute_result"
    }
   ],
   "source": [
    "c3.SafetyStockLevel.value_counts(normalize=True)\n",
    "#Majority of the products are costly and have minimum inventory quantity of 100"
   ]
  },
  {
   "cell_type": "code",
   "execution_count": 266,
   "metadata": {
    "collapsed": false
   },
   "outputs": [
    {
     "data": {
      "text/plain": [
       "3      0.446494\n",
       "75     0.329765\n",
       "375    0.223742\n",
       "Name: ReorderPoint, dtype: float64"
      ]
     },
     "execution_count": 266,
     "metadata": {},
     "output_type": "execute_result"
    }
   ],
   "source": [
    "c1.ReorderPoint.value_counts(normalize=True)\n",
    "#Majority of the prodcuts in Cluster 0 are cheap "
   ]
  },
  {
   "cell_type": "markdown",
   "metadata": {},
   "source": []
  },
  {
   "cell_type": "code",
   "execution_count": 267,
   "metadata": {
    "collapsed": false
   },
   "outputs": [
    {
     "data": {
      "text/plain": [
       "75     5042\n",
       "375    4153\n",
       "3      3567\n",
       "Name: ReorderPoint, dtype: int64"
      ]
     },
     "execution_count": 267,
     "metadata": {},
     "output_type": "execute_result"
    }
   ],
   "source": [
    "c2.ReorderPoint.value_counts()\n",
    "#Majority of the products on cluster 1 is costly"
   ]
  },
  {
   "cell_type": "code",
   "execution_count": 268,
   "metadata": {
    "collapsed": false
   },
   "outputs": [
    {
     "data": {
      "text/plain": [
       "75     2350\n",
       "375    1985\n",
       "3      1466\n",
       "Name: ReorderPoint, dtype: int64"
      ]
     },
     "execution_count": 268,
     "metadata": {},
     "output_type": "execute_result"
    }
   ],
   "source": [
    "c3.ReorderPoint.value_counts()\n",
    "#Majority of the products on cluster are is costly"
   ]
  },
  {
   "cell_type": "code",
   "execution_count": 269,
   "metadata": {
    "collapsed": false
   },
   "outputs": [
    {
     "data": {
      "text/plain": [
       "75     9457\n",
       "375    6977\n",
       "3      6017\n",
       "Name: ReorderPoint, dtype: int64"
      ]
     },
     "execution_count": 269,
     "metadata": {},
     "output_type": "execute_result"
    }
   ],
   "source": [
    "c4.ReorderPoint.value_counts()#Majority of the products in clsuter 3 are costlt"
   ]
  },
  {
   "cell_type": "code",
   "execution_count": null,
   "metadata": {
    "collapsed": true
   },
   "outputs": [],
   "source": []
  }
 ],
 "metadata": {
  "anaconda-cloud": {},
  "kernelspec": {
   "display_name": "Python 3",
   "language": "python",
   "name": "python3"
  },
  "language_info": {
   "codemirror_mode": {
    "name": "ipython",
    "version": 3
   },
   "file_extension": ".py",
   "mimetype": "text/x-python",
   "name": "python",
   "nbconvert_exporter": "python",
   "pygments_lexer": "ipython3",
   "version": "3.6.0"
  }
 },
 "nbformat": 4,
 "nbformat_minor": 1
}
